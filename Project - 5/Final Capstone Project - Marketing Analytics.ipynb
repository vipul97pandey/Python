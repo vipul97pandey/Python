{
 "cells": [
  {
   "cell_type": "code",
   "execution_count": 1,
   "id": "e03621b9",
   "metadata": {},
   "outputs": [],
   "source": [
    "# Importing packages :\n",
    "\n",
    "import numpy as np\n",
    "import pandas as pd\n",
    "import matplotlib.pyplot as plt\n",
    "import seaborn as sns\n",
    "\n",
    "%matplotlib inline"
   ]
  },
  {
   "cell_type": "code",
   "execution_count": 2,
   "id": "2103c853",
   "metadata": {},
   "outputs": [],
   "source": [
    "# importing the Data\n",
    "data = r\"C:\\Users\\Lenovo\\Documents\\Data\"\n",
    "\n",
    "customers = pd.read_csv(data + '\\\\CUSTOMERS.csv')\n",
    "geo_loc = pd.read_csv(data + '\\\\GEO_LOCATION.csv')\n",
    "order_items = pd.read_csv(data +'\\\\ORDER_ITEMS.csv')\n",
    "order_payments = pd.read_csv(data + '\\\\ORDER_PAYMENTS.csv')\n",
    "order_review_ratings = pd.read_csv(data + '\\\\ORDER_REVIEW_RATINGS.csv')\n",
    "orders = pd.read_csv(data + '\\\\ORDERS.csv')\n",
    "products = pd.read_csv(data + '\\\\PRODUCTS.csv')\n",
    "sellers = pd.read_csv(data + '\\\\SELLERS.csv')"
   ]
  },
  {
   "cell_type": "code",
   "execution_count": 3,
   "id": "dd698cff",
   "metadata": {},
   "outputs": [
    {
     "data": {
      "text/html": [
       "<div>\n",
       "<style scoped>\n",
       "    .dataframe tbody tr th:only-of-type {\n",
       "        vertical-align: middle;\n",
       "    }\n",
       "\n",
       "    .dataframe tbody tr th {\n",
       "        vertical-align: top;\n",
       "    }\n",
       "\n",
       "    .dataframe thead th {\n",
       "        text-align: right;\n",
       "    }\n",
       "</style>\n",
       "<table border=\"1\" class=\"dataframe\">\n",
       "  <thead>\n",
       "    <tr style=\"text-align: right;\">\n",
       "      <th></th>\n",
       "      <th>customer_id</th>\n",
       "      <th>customer_unique_id</th>\n",
       "      <th>customer_zip_code_prefix</th>\n",
       "      <th>customer_city</th>\n",
       "      <th>customer_state</th>\n",
       "    </tr>\n",
       "  </thead>\n",
       "  <tbody>\n",
       "    <tr>\n",
       "      <th>0</th>\n",
       "      <td>06b8999e2fba1a1fbc88172c00ba8bc7</td>\n",
       "      <td>861eff4711a542e4b93843c6dd7febb0</td>\n",
       "      <td>14409</td>\n",
       "      <td>Adilabad</td>\n",
       "      <td>Andhra Pradesh</td>\n",
       "    </tr>\n",
       "    <tr>\n",
       "      <th>1</th>\n",
       "      <td>18955e83d337fd6b2def6b18a428ac77</td>\n",
       "      <td>290c77bc529b7ac935b93aa66c333dc3</td>\n",
       "      <td>9790</td>\n",
       "      <td>Adoni</td>\n",
       "      <td>Andhra Pradesh</td>\n",
       "    </tr>\n",
       "  </tbody>\n",
       "</table>\n",
       "</div>"
      ],
      "text/plain": [
       "                        customer_id                customer_unique_id  \\\n",
       "0  06b8999e2fba1a1fbc88172c00ba8bc7  861eff4711a542e4b93843c6dd7febb0   \n",
       "1  18955e83d337fd6b2def6b18a428ac77  290c77bc529b7ac935b93aa66c333dc3   \n",
       "\n",
       "   customer_zip_code_prefix customer_city  customer_state  \n",
       "0                     14409      Adilabad  Andhra Pradesh  \n",
       "1                      9790         Adoni  Andhra Pradesh  "
      ]
     },
     "execution_count": 3,
     "metadata": {},
     "output_type": "execute_result"
    }
   ],
   "source": [
    "customers.head(2)"
   ]
  },
  {
   "cell_type": "code",
   "execution_count": 4,
   "id": "80bb4d35",
   "metadata": {},
   "outputs": [
    {
     "data": {
      "text/html": [
       "<div>\n",
       "<style scoped>\n",
       "    .dataframe tbody tr th:only-of-type {\n",
       "        vertical-align: middle;\n",
       "    }\n",
       "\n",
       "    .dataframe tbody tr th {\n",
       "        vertical-align: top;\n",
       "    }\n",
       "\n",
       "    .dataframe thead th {\n",
       "        text-align: right;\n",
       "    }\n",
       "</style>\n",
       "<table border=\"1\" class=\"dataframe\">\n",
       "  <thead>\n",
       "    <tr style=\"text-align: right;\">\n",
       "      <th></th>\n",
       "      <th>geolocation_zip_code_prefix</th>\n",
       "      <th>geolocation_lat</th>\n",
       "      <th>geolocation_lng</th>\n",
       "      <th>geolocation_city</th>\n",
       "      <th>geolocation_state</th>\n",
       "    </tr>\n",
       "  </thead>\n",
       "  <tbody>\n",
       "    <tr>\n",
       "      <th>0</th>\n",
       "      <td>1037</td>\n",
       "      <td>-23.545621</td>\n",
       "      <td>-46.639292</td>\n",
       "      <td>Akkarampalle</td>\n",
       "      <td>Andhra Pradesh</td>\n",
       "    </tr>\n",
       "    <tr>\n",
       "      <th>1</th>\n",
       "      <td>1046</td>\n",
       "      <td>-23.546081</td>\n",
       "      <td>-46.644820</td>\n",
       "      <td>Akkarampalle</td>\n",
       "      <td>Andhra Pradesh</td>\n",
       "    </tr>\n",
       "  </tbody>\n",
       "</table>\n",
       "</div>"
      ],
      "text/plain": [
       "   geolocation_zip_code_prefix  geolocation_lat  geolocation_lng  \\\n",
       "0                         1037       -23.545621       -46.639292   \n",
       "1                         1046       -23.546081       -46.644820   \n",
       "\n",
       "  geolocation_city geolocation_state  \n",
       "0     Akkarampalle    Andhra Pradesh  \n",
       "1     Akkarampalle    Andhra Pradesh  "
      ]
     },
     "execution_count": 4,
     "metadata": {},
     "output_type": "execute_result"
    }
   ],
   "source": [
    "geo_loc.head(2)"
   ]
  },
  {
   "cell_type": "code",
   "execution_count": 5,
   "id": "4643769d",
   "metadata": {},
   "outputs": [
    {
     "data": {
      "text/html": [
       "<div>\n",
       "<style scoped>\n",
       "    .dataframe tbody tr th:only-of-type {\n",
       "        vertical-align: middle;\n",
       "    }\n",
       "\n",
       "    .dataframe tbody tr th {\n",
       "        vertical-align: top;\n",
       "    }\n",
       "\n",
       "    .dataframe thead th {\n",
       "        text-align: right;\n",
       "    }\n",
       "</style>\n",
       "<table border=\"1\" class=\"dataframe\">\n",
       "  <thead>\n",
       "    <tr style=\"text-align: right;\">\n",
       "      <th></th>\n",
       "      <th>order_id</th>\n",
       "      <th>order_item_id</th>\n",
       "      <th>product_id</th>\n",
       "      <th>seller_id</th>\n",
       "      <th>shipping_limit_date</th>\n",
       "      <th>price</th>\n",
       "      <th>freight_value</th>\n",
       "    </tr>\n",
       "  </thead>\n",
       "  <tbody>\n",
       "    <tr>\n",
       "      <th>0</th>\n",
       "      <td>00010242fe8c5a6d1ba2dd792cb16214</td>\n",
       "      <td>1</td>\n",
       "      <td>4244733e06e7ecb4970a6e2683c13e61</td>\n",
       "      <td>48436dade18ac8b2bce089ec2a041202</td>\n",
       "      <td>9/19/2017 9:45</td>\n",
       "      <td>58.9</td>\n",
       "      <td>13.29</td>\n",
       "    </tr>\n",
       "    <tr>\n",
       "      <th>1</th>\n",
       "      <td>00018f77f2f0320c557190d7a144bdd3</td>\n",
       "      <td>1</td>\n",
       "      <td>e5f2d52b802189ee658865ca93d83a8f</td>\n",
       "      <td>dd7ddc04e1b6c2c614352b383efe2d36</td>\n",
       "      <td>5/3/2017 11:05</td>\n",
       "      <td>239.9</td>\n",
       "      <td>19.93</td>\n",
       "    </tr>\n",
       "  </tbody>\n",
       "</table>\n",
       "</div>"
      ],
      "text/plain": [
       "                           order_id  order_item_id  \\\n",
       "0  00010242fe8c5a6d1ba2dd792cb16214              1   \n",
       "1  00018f77f2f0320c557190d7a144bdd3              1   \n",
       "\n",
       "                         product_id                         seller_id  \\\n",
       "0  4244733e06e7ecb4970a6e2683c13e61  48436dade18ac8b2bce089ec2a041202   \n",
       "1  e5f2d52b802189ee658865ca93d83a8f  dd7ddc04e1b6c2c614352b383efe2d36   \n",
       "\n",
       "  shipping_limit_date  price  freight_value  \n",
       "0      9/19/2017 9:45   58.9          13.29  \n",
       "1      5/3/2017 11:05  239.9          19.93  "
      ]
     },
     "execution_count": 5,
     "metadata": {},
     "output_type": "execute_result"
    }
   ],
   "source": [
    "order_items.head(2)"
   ]
  },
  {
   "cell_type": "code",
   "execution_count": 6,
   "id": "28a0d293",
   "metadata": {},
   "outputs": [
    {
     "data": {
      "text/html": [
       "<div>\n",
       "<style scoped>\n",
       "    .dataframe tbody tr th:only-of-type {\n",
       "        vertical-align: middle;\n",
       "    }\n",
       "\n",
       "    .dataframe tbody tr th {\n",
       "        vertical-align: top;\n",
       "    }\n",
       "\n",
       "    .dataframe thead th {\n",
       "        text-align: right;\n",
       "    }\n",
       "</style>\n",
       "<table border=\"1\" class=\"dataframe\">\n",
       "  <thead>\n",
       "    <tr style=\"text-align: right;\">\n",
       "      <th></th>\n",
       "      <th>order_id</th>\n",
       "      <th>payment_sequential</th>\n",
       "      <th>payment_type</th>\n",
       "      <th>payment_installments</th>\n",
       "      <th>payment_value</th>\n",
       "    </tr>\n",
       "  </thead>\n",
       "  <tbody>\n",
       "    <tr>\n",
       "      <th>0</th>\n",
       "      <td>b81ef226f3fe1789b1e8b2acac839d17</td>\n",
       "      <td>1</td>\n",
       "      <td>credit_card</td>\n",
       "      <td>8</td>\n",
       "      <td>99.33</td>\n",
       "    </tr>\n",
       "    <tr>\n",
       "      <th>1</th>\n",
       "      <td>a9810da82917af2d9aefd1278f1dcfa0</td>\n",
       "      <td>1</td>\n",
       "      <td>credit_card</td>\n",
       "      <td>1</td>\n",
       "      <td>24.39</td>\n",
       "    </tr>\n",
       "  </tbody>\n",
       "</table>\n",
       "</div>"
      ],
      "text/plain": [
       "                           order_id  payment_sequential payment_type  \\\n",
       "0  b81ef226f3fe1789b1e8b2acac839d17                   1  credit_card   \n",
       "1  a9810da82917af2d9aefd1278f1dcfa0                   1  credit_card   \n",
       "\n",
       "   payment_installments  payment_value  \n",
       "0                     8          99.33  \n",
       "1                     1          24.39  "
      ]
     },
     "execution_count": 6,
     "metadata": {},
     "output_type": "execute_result"
    }
   ],
   "source": [
    "order_payments.head(2)"
   ]
  },
  {
   "cell_type": "code",
   "execution_count": 7,
   "id": "05c87993",
   "metadata": {},
   "outputs": [
    {
     "data": {
      "text/html": [
       "<div>\n",
       "<style scoped>\n",
       "    .dataframe tbody tr th:only-of-type {\n",
       "        vertical-align: middle;\n",
       "    }\n",
       "\n",
       "    .dataframe tbody tr th {\n",
       "        vertical-align: top;\n",
       "    }\n",
       "\n",
       "    .dataframe thead th {\n",
       "        text-align: right;\n",
       "    }\n",
       "</style>\n",
       "<table border=\"1\" class=\"dataframe\">\n",
       "  <thead>\n",
       "    <tr style=\"text-align: right;\">\n",
       "      <th></th>\n",
       "      <th>review_id</th>\n",
       "      <th>order_id</th>\n",
       "      <th>review_score</th>\n",
       "      <th>review_creation_date</th>\n",
       "      <th>review_answer_timestamp</th>\n",
       "    </tr>\n",
       "  </thead>\n",
       "  <tbody>\n",
       "    <tr>\n",
       "      <th>0</th>\n",
       "      <td>7bc2406110b926393aa56f80a40eba40</td>\n",
       "      <td>73fc7af87114b39712e6da79b0a377eb</td>\n",
       "      <td>4</td>\n",
       "      <td>1/18/2018 0:00</td>\n",
       "      <td>1/18/2018 21:46</td>\n",
       "    </tr>\n",
       "    <tr>\n",
       "      <th>1</th>\n",
       "      <td>80e641a11e56f04c1ad469d5645fdfde</td>\n",
       "      <td>a548910a1c6147796b98fdf73dbeba33</td>\n",
       "      <td>5</td>\n",
       "      <td>3/10/2018 0:00</td>\n",
       "      <td>3/11/2018 3:05</td>\n",
       "    </tr>\n",
       "  </tbody>\n",
       "</table>\n",
       "</div>"
      ],
      "text/plain": [
       "                          review_id                          order_id  \\\n",
       "0  7bc2406110b926393aa56f80a40eba40  73fc7af87114b39712e6da79b0a377eb   \n",
       "1  80e641a11e56f04c1ad469d5645fdfde  a548910a1c6147796b98fdf73dbeba33   \n",
       "\n",
       "   review_score review_creation_date review_answer_timestamp  \n",
       "0             4       1/18/2018 0:00         1/18/2018 21:46  \n",
       "1             5       3/10/2018 0:00          3/11/2018 3:05  "
      ]
     },
     "execution_count": 7,
     "metadata": {},
     "output_type": "execute_result"
    }
   ],
   "source": [
    "order_review_ratings.head(2)"
   ]
  },
  {
   "cell_type": "code",
   "execution_count": 8,
   "id": "84425d4f",
   "metadata": {},
   "outputs": [
    {
     "data": {
      "text/html": [
       "<div>\n",
       "<style scoped>\n",
       "    .dataframe tbody tr th:only-of-type {\n",
       "        vertical-align: middle;\n",
       "    }\n",
       "\n",
       "    .dataframe tbody tr th {\n",
       "        vertical-align: top;\n",
       "    }\n",
       "\n",
       "    .dataframe thead th {\n",
       "        text-align: right;\n",
       "    }\n",
       "</style>\n",
       "<table border=\"1\" class=\"dataframe\">\n",
       "  <thead>\n",
       "    <tr style=\"text-align: right;\">\n",
       "      <th></th>\n",
       "      <th>order_id</th>\n",
       "      <th>customer_id</th>\n",
       "      <th>order_status</th>\n",
       "      <th>order_purchase_timestamp</th>\n",
       "      <th>order_approved_at</th>\n",
       "      <th>order_delivered_carrier_date</th>\n",
       "      <th>order_delivered_customer_date</th>\n",
       "      <th>order_estimated_delivery_date</th>\n",
       "    </tr>\n",
       "  </thead>\n",
       "  <tbody>\n",
       "    <tr>\n",
       "      <th>0</th>\n",
       "      <td>e481f51cbdc54678b7cc49136f2d6af7</td>\n",
       "      <td>9ef432eb6251297304e76186b10a928d</td>\n",
       "      <td>delivered</td>\n",
       "      <td>10/2/2017 10:56</td>\n",
       "      <td>10/2/2017 11:07</td>\n",
       "      <td>10/4/2017 19:55</td>\n",
       "      <td>10/10/2017 21:25</td>\n",
       "      <td>10/18/2017 0:00</td>\n",
       "    </tr>\n",
       "    <tr>\n",
       "      <th>1</th>\n",
       "      <td>53cdb2fc8bc7dce0b6741e2150273451</td>\n",
       "      <td>b0830fb4747a6c6d20dea0b8c802d7ef</td>\n",
       "      <td>delivered</td>\n",
       "      <td>7/24/2018 20:41</td>\n",
       "      <td>7/26/2018 3:24</td>\n",
       "      <td>7/26/2018 14:31</td>\n",
       "      <td>8/7/2018 15:27</td>\n",
       "      <td>8/13/2018 0:00</td>\n",
       "    </tr>\n",
       "  </tbody>\n",
       "</table>\n",
       "</div>"
      ],
      "text/plain": [
       "                           order_id                       customer_id  \\\n",
       "0  e481f51cbdc54678b7cc49136f2d6af7  9ef432eb6251297304e76186b10a928d   \n",
       "1  53cdb2fc8bc7dce0b6741e2150273451  b0830fb4747a6c6d20dea0b8c802d7ef   \n",
       "\n",
       "  order_status order_purchase_timestamp order_approved_at  \\\n",
       "0    delivered          10/2/2017 10:56   10/2/2017 11:07   \n",
       "1    delivered          7/24/2018 20:41    7/26/2018 3:24   \n",
       "\n",
       "  order_delivered_carrier_date order_delivered_customer_date  \\\n",
       "0              10/4/2017 19:55              10/10/2017 21:25   \n",
       "1              7/26/2018 14:31                8/7/2018 15:27   \n",
       "\n",
       "  order_estimated_delivery_date  \n",
       "0               10/18/2017 0:00  \n",
       "1                8/13/2018 0:00  "
      ]
     },
     "execution_count": 8,
     "metadata": {},
     "output_type": "execute_result"
    }
   ],
   "source": [
    "orders.head(2)"
   ]
  },
  {
   "cell_type": "code",
   "execution_count": 9,
   "id": "6e8fa470",
   "metadata": {},
   "outputs": [
    {
     "data": {
      "text/html": [
       "<div>\n",
       "<style scoped>\n",
       "    .dataframe tbody tr th:only-of-type {\n",
       "        vertical-align: middle;\n",
       "    }\n",
       "\n",
       "    .dataframe tbody tr th {\n",
       "        vertical-align: top;\n",
       "    }\n",
       "\n",
       "    .dataframe thead th {\n",
       "        text-align: right;\n",
       "    }\n",
       "</style>\n",
       "<table border=\"1\" class=\"dataframe\">\n",
       "  <thead>\n",
       "    <tr style=\"text-align: right;\">\n",
       "      <th></th>\n",
       "      <th>product_id</th>\n",
       "      <th>product_category_name</th>\n",
       "      <th>product_name_lenght</th>\n",
       "      <th>product_description_lenght</th>\n",
       "      <th>product_photos_qty</th>\n",
       "      <th>product_weight_g</th>\n",
       "      <th>product_length_cm</th>\n",
       "      <th>product_height_cm</th>\n",
       "      <th>product_width_cm</th>\n",
       "    </tr>\n",
       "  </thead>\n",
       "  <tbody>\n",
       "    <tr>\n",
       "      <th>0</th>\n",
       "      <td>1e9e8ef04dbcff4541ed26657ea517e5</td>\n",
       "      <td>Perfumery</td>\n",
       "      <td>40.0</td>\n",
       "      <td>287.0</td>\n",
       "      <td>1.0</td>\n",
       "      <td>225.0</td>\n",
       "      <td>16.0</td>\n",
       "      <td>10.0</td>\n",
       "      <td>14.0</td>\n",
       "    </tr>\n",
       "    <tr>\n",
       "      <th>1</th>\n",
       "      <td>3aa071139cb16b67ca9e5dea641aaa2f</td>\n",
       "      <td>Art</td>\n",
       "      <td>44.0</td>\n",
       "      <td>276.0</td>\n",
       "      <td>1.0</td>\n",
       "      <td>1000.0</td>\n",
       "      <td>30.0</td>\n",
       "      <td>18.0</td>\n",
       "      <td>20.0</td>\n",
       "    </tr>\n",
       "  </tbody>\n",
       "</table>\n",
       "</div>"
      ],
      "text/plain": [
       "                         product_id product_category_name  \\\n",
       "0  1e9e8ef04dbcff4541ed26657ea517e5             Perfumery   \n",
       "1  3aa071139cb16b67ca9e5dea641aaa2f                   Art   \n",
       "\n",
       "   product_name_lenght  product_description_lenght  product_photos_qty  \\\n",
       "0                 40.0                       287.0                 1.0   \n",
       "1                 44.0                       276.0                 1.0   \n",
       "\n",
       "   product_weight_g  product_length_cm  product_height_cm  product_width_cm  \n",
       "0             225.0               16.0               10.0              14.0  \n",
       "1            1000.0               30.0               18.0              20.0  "
      ]
     },
     "execution_count": 9,
     "metadata": {},
     "output_type": "execute_result"
    }
   ],
   "source": [
    "products.head(2)"
   ]
  },
  {
   "cell_type": "code",
   "execution_count": 10,
   "id": "f7877103",
   "metadata": {},
   "outputs": [
    {
     "data": {
      "text/html": [
       "<div>\n",
       "<style scoped>\n",
       "    .dataframe tbody tr th:only-of-type {\n",
       "        vertical-align: middle;\n",
       "    }\n",
       "\n",
       "    .dataframe tbody tr th {\n",
       "        vertical-align: top;\n",
       "    }\n",
       "\n",
       "    .dataframe thead th {\n",
       "        text-align: right;\n",
       "    }\n",
       "</style>\n",
       "<table border=\"1\" class=\"dataframe\">\n",
       "  <thead>\n",
       "    <tr style=\"text-align: right;\">\n",
       "      <th></th>\n",
       "      <th>seller_id</th>\n",
       "      <th>seller_zip_code_prefix</th>\n",
       "      <th>seller_city</th>\n",
       "      <th>seller_state</th>\n",
       "    </tr>\n",
       "  </thead>\n",
       "  <tbody>\n",
       "    <tr>\n",
       "      <th>0</th>\n",
       "      <td>3442f8959a84dea7ee197c632cb2df15</td>\n",
       "      <td>13023</td>\n",
       "      <td>Alwal</td>\n",
       "      <td>Andhra Pradesh</td>\n",
       "    </tr>\n",
       "    <tr>\n",
       "      <th>1</th>\n",
       "      <td>d1b65fc7debc3361ea86b5f14c68d2e2</td>\n",
       "      <td>13023</td>\n",
       "      <td>Alwal</td>\n",
       "      <td>Andhra Pradesh</td>\n",
       "    </tr>\n",
       "  </tbody>\n",
       "</table>\n",
       "</div>"
      ],
      "text/plain": [
       "                          seller_id  seller_zip_code_prefix seller_city  \\\n",
       "0  3442f8959a84dea7ee197c632cb2df15                   13023       Alwal   \n",
       "1  d1b65fc7debc3361ea86b5f14c68d2e2                   13023       Alwal   \n",
       "\n",
       "     seller_state  \n",
       "0  Andhra Pradesh  \n",
       "1  Andhra Pradesh  "
      ]
     },
     "execution_count": 10,
     "metadata": {},
     "output_type": "execute_result"
    }
   ],
   "source": [
    "sellers.head(2)"
   ]
  },
  {
   "cell_type": "markdown",
   "id": "b46d8d55",
   "metadata": {},
   "source": [
    "## 1. Perform Detailed exploratory analysis\n",
    "### a. Define & calculate high level metrics like (Total Revenue, Total quantity, Total products, Total categories, Total sellers, Total locations, Total channels, Total payment methods etc…)"
   ]
  },
  {
   "cell_type": "code",
   "execution_count": 11,
   "id": "74c07029",
   "metadata": {},
   "outputs": [
    {
     "name": "stdout",
     "output_type": "stream",
     "text": [
      "Total revenue = 13591643.7\n",
      "Total quantity = 112650\n",
      "Total products = 32951\n",
      "Total categories = 71\n",
      "Total sellers = 3095\n",
      "Total locations = 19015\n",
      "Total payment methods = 5\n"
     ]
    }
   ],
   "source": [
    "#Total revenue \n",
    "print ('Total revenue =' , round(order_items.price.sum(),2))\n",
    "\n",
    "# Total quantity\n",
    "print('Total quantity =', order_items.shape[0])\n",
    "\n",
    "#Total products\n",
    "print('Total products =', products.product_id.nunique())\n",
    "\n",
    "#Total categories\n",
    "print('Total categories =', products.product_category_name.nunique())\n",
    "\n",
    "#Total sellers\n",
    "print('Total sellers =', sellers.seller_id.nunique() )\n",
    "\n",
    "#Total locations\n",
    "print('Total locations =', geo_loc.geolocation_zip_code_prefix.nunique())\n",
    "\n",
    "#Total payment methods\n",
    "print('Total payment methods =', order_payments.payment_type.nunique())"
   ]
  },
  {
   "cell_type": "markdown",
   "id": "331227d5",
   "metadata": {},
   "source": [
    "### b. Understanding how many new customers acquired every month"
   ]
  },
  {
   "cell_type": "code",
   "execution_count": 12,
   "id": "98c0b7fa",
   "metadata": {},
   "outputs": [],
   "source": [
    "# changing data type to datetime\n",
    "orders['order_purchase_timestamp'] = pd.to_datetime(orders.order_purchase_timestamp, format = '%m/%d/%Y %H:%M')"
   ]
  },
  {
   "cell_type": "code",
   "execution_count": 13,
   "id": "8ed5ce8b",
   "metadata": {},
   "outputs": [],
   "source": [
    "orders['Year_month'] = orders.order_purchase_timestamp.apply(lambda x: pd.Timestamp.strftime(x , format = \"%Y-%m\"))"
   ]
  },
  {
   "cell_type": "code",
   "execution_count": 14,
   "id": "530ec3d3",
   "metadata": {},
   "outputs": [],
   "source": [
    "#merging customers and orders data\n",
    "cust_orders = pd.merge(customers , orders , how = 'left' , on= 'customer_id')"
   ]
  },
  {
   "cell_type": "code",
   "execution_count": 15,
   "id": "0f1aa2f7",
   "metadata": {},
   "outputs": [],
   "source": [
    "cust_month = cust_orders.loc[:, ['customer_unique_id', 'Year_month']] "
   ]
  },
  {
   "cell_type": "code",
   "execution_count": 16,
   "id": "077c7bc4",
   "metadata": {},
   "outputs": [],
   "source": [
    "cust_month.drop_duplicates(subset='customer_unique_id' , inplace= True)"
   ]
  },
  {
   "cell_type": "code",
   "execution_count": 17,
   "id": "ee5f09b1",
   "metadata": {},
   "outputs": [
    {
     "data": {
      "text/html": [
       "<div>\n",
       "<style scoped>\n",
       "    .dataframe tbody tr th:only-of-type {\n",
       "        vertical-align: middle;\n",
       "    }\n",
       "\n",
       "    .dataframe tbody tr th {\n",
       "        vertical-align: top;\n",
       "    }\n",
       "\n",
       "    .dataframe thead th {\n",
       "        text-align: right;\n",
       "    }\n",
       "</style>\n",
       "<table border=\"1\" class=\"dataframe\">\n",
       "  <thead>\n",
       "    <tr style=\"text-align: right;\">\n",
       "      <th></th>\n",
       "      <th>customer_unique_id</th>\n",
       "    </tr>\n",
       "    <tr>\n",
       "      <th>Year_month</th>\n",
       "      <th></th>\n",
       "    </tr>\n",
       "  </thead>\n",
       "  <tbody>\n",
       "    <tr>\n",
       "      <th>2016-09</th>\n",
       "      <td>4</td>\n",
       "    </tr>\n",
       "    <tr>\n",
       "      <th>2016-10</th>\n",
       "      <td>315</td>\n",
       "    </tr>\n",
       "  </tbody>\n",
       "</table>\n",
       "</div>"
      ],
      "text/plain": [
       "            customer_unique_id\n",
       "Year_month                    \n",
       "2016-09                      4\n",
       "2016-10                    315"
      ]
     },
     "execution_count": 17,
     "metadata": {},
     "output_type": "execute_result"
    }
   ],
   "source": [
    "new_cust_monthly = cust_month.groupby('Year_month')[['customer_unique_id']].count()\n",
    "new_cust_monthly.head(2)"
   ]
  },
  {
   "cell_type": "code",
   "execution_count": 18,
   "id": "bef7b9c7",
   "metadata": {},
   "outputs": [
    {
     "data": {
      "image/png": "[encoded data removed]",
      "text/plain": [
       "<Figure size 1296x360 with 1 Axes>"
      ]
     },
     "metadata": {
      "needs_background": "light"
     },
     "output_type": "display_data"
    }
   ],
   "source": [
    "new_cust_monthly.plot( kind = 'bar', figsize = (18,5))\n",
    "plt.ylabel('count of customers')\n",
    "plt.title('New customers acquired every month')\n",
    "plt.show()"
   ]
  },
  {
   "cell_type": "markdown",
   "id": "5350d53f",
   "metadata": {},
   "source": [
    "### c. Understand the retention of customers on month on month basis"
   ]
  },
  {
   "cell_type": "code",
   "execution_count": 19,
   "id": "11ff454e",
   "metadata": {},
   "outputs": [
    {
     "data": {
      "text/html": [
       "<div>\n",
       "<style scoped>\n",
       "    .dataframe tbody tr th:only-of-type {\n",
       "        vertical-align: middle;\n",
       "    }\n",
       "\n",
       "    .dataframe tbody tr th {\n",
       "        vertical-align: top;\n",
       "    }\n",
       "\n",
       "    .dataframe thead th {\n",
       "        text-align: right;\n",
       "    }\n",
       "</style>\n",
       "<table border=\"1\" class=\"dataframe\">\n",
       "  <thead>\n",
       "    <tr style=\"text-align: right;\">\n",
       "      <th></th>\n",
       "      <th>Year_month</th>\n",
       "      <th>customer_unique_id</th>\n",
       "    </tr>\n",
       "  </thead>\n",
       "  <tbody>\n",
       "    <tr>\n",
       "      <th>0</th>\n",
       "      <td>2016-09</td>\n",
       "      <td>4</td>\n",
       "    </tr>\n",
       "    <tr>\n",
       "      <th>1</th>\n",
       "      <td>2016-10</td>\n",
       "      <td>324</td>\n",
       "    </tr>\n",
       "  </tbody>\n",
       "</table>\n",
       "</div>"
      ],
      "text/plain": [
       "  Year_month  customer_unique_id\n",
       "0    2016-09                   4\n",
       "1    2016-10                 324"
      ]
     },
     "execution_count": 19,
     "metadata": {},
     "output_type": "execute_result"
    }
   ],
   "source": [
    "cust_monthly_cnt = cust_orders.groupby('Year_month')[['customer_unique_id']].count().reset_index()\n",
    "cust_monthly_cnt.head(2)"
   ]
  },
  {
   "cell_type": "code",
   "execution_count": 20,
   "id": "161558df",
   "metadata": {},
   "outputs": [
    {
     "data": {
      "text/plain": [
       "99441"
      ]
     },
     "execution_count": 20,
     "metadata": {},
     "output_type": "execute_result"
    }
   ],
   "source": [
    "cust_monthly_cnt.customer_unique_id.sum()"
   ]
  },
  {
   "cell_type": "code",
   "execution_count": 21,
   "id": "73412ff1",
   "metadata": {},
   "outputs": [
    {
     "data": {
      "text/html": [
       "<div>\n",
       "<style scoped>\n",
       "    .dataframe tbody tr th:only-of-type {\n",
       "        vertical-align: middle;\n",
       "    }\n",
       "\n",
       "    .dataframe tbody tr th {\n",
       "        vertical-align: top;\n",
       "    }\n",
       "\n",
       "    .dataframe thead th {\n",
       "        text-align: right;\n",
       "    }\n",
       "</style>\n",
       "<table border=\"1\" class=\"dataframe\">\n",
       "  <thead>\n",
       "    <tr style=\"text-align: right;\">\n",
       "      <th></th>\n",
       "      <th>Year_month</th>\n",
       "      <th>customer_unique_id_x</th>\n",
       "      <th>customer_unique_id_y</th>\n",
       "    </tr>\n",
       "  </thead>\n",
       "  <tbody>\n",
       "    <tr>\n",
       "      <th>0</th>\n",
       "      <td>2016-09</td>\n",
       "      <td>4</td>\n",
       "      <td>4</td>\n",
       "    </tr>\n",
       "    <tr>\n",
       "      <th>1</th>\n",
       "      <td>2016-10</td>\n",
       "      <td>315</td>\n",
       "      <td>324</td>\n",
       "    </tr>\n",
       "  </tbody>\n",
       "</table>\n",
       "</div>"
      ],
      "text/plain": [
       "  Year_month  customer_unique_id_x  customer_unique_id_y\n",
       "0    2016-09                     4                     4\n",
       "1    2016-10                   315                   324"
      ]
     },
     "execution_count": 21,
     "metadata": {},
     "output_type": "execute_result"
    }
   ],
   "source": [
    "retented_cust_monthly = pd.merge(new_cust_monthly , cust_monthly_cnt , how= 'left' , on =\"Year_month\")\n",
    "retented_cust_monthly.head(2)"
   ]
  },
  {
   "cell_type": "code",
   "execution_count": 22,
   "id": "1e3db8d6",
   "metadata": {},
   "outputs": [
    {
     "data": {
      "text/html": [
       "<div>\n",
       "<style scoped>\n",
       "    .dataframe tbody tr th:only-of-type {\n",
       "        vertical-align: middle;\n",
       "    }\n",
       "\n",
       "    .dataframe tbody tr th {\n",
       "        vertical-align: top;\n",
       "    }\n",
       "\n",
       "    .dataframe thead th {\n",
       "        text-align: right;\n",
       "    }\n",
       "</style>\n",
       "<table border=\"1\" class=\"dataframe\">\n",
       "  <thead>\n",
       "    <tr style=\"text-align: right;\">\n",
       "      <th></th>\n",
       "      <th>Year_month</th>\n",
       "      <th>customer_unique_id_x</th>\n",
       "      <th>customer_unique_id_y</th>\n",
       "      <th>retented_cust</th>\n",
       "    </tr>\n",
       "  </thead>\n",
       "  <tbody>\n",
       "    <tr>\n",
       "      <th>0</th>\n",
       "      <td>2016-09</td>\n",
       "      <td>4</td>\n",
       "      <td>4</td>\n",
       "      <td>0</td>\n",
       "    </tr>\n",
       "    <tr>\n",
       "      <th>1</th>\n",
       "      <td>2016-10</td>\n",
       "      <td>315</td>\n",
       "      <td>324</td>\n",
       "      <td>9</td>\n",
       "    </tr>\n",
       "  </tbody>\n",
       "</table>\n",
       "</div>"
      ],
      "text/plain": [
       "  Year_month  customer_unique_id_x  customer_unique_id_y  retented_cust\n",
       "0    2016-09                     4                     4              0\n",
       "1    2016-10                   315                   324              9"
      ]
     },
     "execution_count": 22,
     "metadata": {},
     "output_type": "execute_result"
    }
   ],
   "source": [
    "retented_cust_monthly['retented_cust'] = retented_cust_monthly.customer_unique_id_y - retented_cust_monthly.customer_unique_id_x\n",
    "retented_cust_monthly.head(2)"
   ]
  },
  {
   "cell_type": "code",
   "execution_count": 23,
   "id": "b25e1c61",
   "metadata": {},
   "outputs": [
    {
     "data": {
      "image/png": "[encoded data removed]",
      "text/plain": [
       "<Figure size 1152x432 with 1 Axes>"
      ]
     },
     "metadata": {
      "needs_background": "light"
     },
     "output_type": "display_data"
    }
   ],
   "source": [
    "retented_cust_monthly.plot(kind= 'bar', x= 'Year_month' , y = 'retented_cust' , figsize = (16,6))\n",
    "plt.ylabel('count of customers')\n",
    "plt.title('Retention of customers on month on month basis')\n",
    "plt.show()"
   ]
  },
  {
   "cell_type": "markdown",
   "id": "b30f18d5",
   "metadata": {},
   "source": [
    "### d. How the revenues from existing/new customers on month on month basis\n"
   ]
  },
  {
   "cell_type": "code",
   "execution_count": 24,
   "id": "bdc3f999",
   "metadata": {},
   "outputs": [],
   "source": [
    "order_item_month = pd.merge(order_items , orders , how= 'left' , on= 'order_id')"
   ]
  },
  {
   "cell_type": "code",
   "execution_count": 25,
   "id": "7248dc0e",
   "metadata": {},
   "outputs": [],
   "source": [
    "order_item_month['net_price'] = order_item_month.price + order_item_month.freight_value"
   ]
  },
  {
   "cell_type": "code",
   "execution_count": 26,
   "id": "3890cdee",
   "metadata": {},
   "outputs": [
    {
     "data": {
      "text/html": [
       "<div>\n",
       "<style scoped>\n",
       "    .dataframe tbody tr th:only-of-type {\n",
       "        vertical-align: middle;\n",
       "    }\n",
       "\n",
       "    .dataframe tbody tr th {\n",
       "        vertical-align: top;\n",
       "    }\n",
       "\n",
       "    .dataframe thead th {\n",
       "        text-align: right;\n",
       "    }\n",
       "</style>\n",
       "<table border=\"1\" class=\"dataframe\">\n",
       "  <thead>\n",
       "    <tr style=\"text-align: right;\">\n",
       "      <th></th>\n",
       "      <th>net_price</th>\n",
       "    </tr>\n",
       "    <tr>\n",
       "      <th>Year_month</th>\n",
       "      <th></th>\n",
       "    </tr>\n",
       "  </thead>\n",
       "  <tbody>\n",
       "    <tr>\n",
       "      <th>2016-09</th>\n",
       "      <td>354.75</td>\n",
       "    </tr>\n",
       "    <tr>\n",
       "      <th>2016-10</th>\n",
       "      <td>56808.84</td>\n",
       "    </tr>\n",
       "  </tbody>\n",
       "</table>\n",
       "</div>"
      ],
      "text/plain": [
       "            net_price\n",
       "Year_month           \n",
       "2016-09        354.75\n",
       "2016-10      56808.84"
      ]
     },
     "execution_count": 26,
     "metadata": {},
     "output_type": "execute_result"
    }
   ],
   "source": [
    "rev_mouth = order_item_month.groupby('Year_month')[['net_price']].sum()\n",
    "rev_mouth.head(2)"
   ]
  },
  {
   "cell_type": "code",
   "execution_count": 27,
   "id": "f90f64e2",
   "metadata": {},
   "outputs": [
    {
     "data": {
      "image/png": "[encoded data removed]",
      "text/plain": [
       "<Figure size 1152x432 with 1 Axes>"
      ]
     },
     "metadata": {
      "needs_background": "light"
     },
     "output_type": "display_data"
    }
   ],
   "source": [
    "rev_mouth.plot( kind = 'bar', figsize =(16,6))\n",
    "plt.ylabel('Total Amount')\n",
    "plt.title('Total Revenue on month on month basis')\n",
    "plt.show()"
   ]
  },
  {
   "cell_type": "markdown",
   "id": "5fd3006c",
   "metadata": {},
   "source": [
    "### e. Understand the trends/seasonality of sales, quantity by category, location, month, week, day, time, channel, payment method etc…"
   ]
  },
  {
   "cell_type": "code",
   "execution_count": 28,
   "id": "455b900f",
   "metadata": {},
   "outputs": [
    {
     "data": {
      "text/html": [
       "<div>\n",
       "<style scoped>\n",
       "    .dataframe tbody tr th:only-of-type {\n",
       "        vertical-align: middle;\n",
       "    }\n",
       "\n",
       "    .dataframe tbody tr th {\n",
       "        vertical-align: top;\n",
       "    }\n",
       "\n",
       "    .dataframe thead th {\n",
       "        text-align: right;\n",
       "    }\n",
       "</style>\n",
       "<table border=\"1\" class=\"dataframe\">\n",
       "  <thead>\n",
       "    <tr style=\"text-align: right;\">\n",
       "      <th></th>\n",
       "      <th>order_id</th>\n",
       "      <th>order_item_id</th>\n",
       "      <th>product_id</th>\n",
       "      <th>seller_id</th>\n",
       "      <th>shipping_limit_date</th>\n",
       "      <th>price</th>\n",
       "      <th>freight_value</th>\n",
       "      <th>customer_id</th>\n",
       "      <th>order_status</th>\n",
       "      <th>order_purchase_timestamp</th>\n",
       "      <th>...</th>\n",
       "      <th>net_price</th>\n",
       "      <th>product_category_name</th>\n",
       "      <th>product_name_lenght</th>\n",
       "      <th>product_description_lenght</th>\n",
       "      <th>product_photos_qty</th>\n",
       "      <th>product_weight_g</th>\n",
       "      <th>product_length_cm</th>\n",
       "      <th>product_height_cm</th>\n",
       "      <th>product_width_cm</th>\n",
       "      <th>month</th>\n",
       "    </tr>\n",
       "  </thead>\n",
       "  <tbody>\n",
       "    <tr>\n",
       "      <th>0</th>\n",
       "      <td>00010242fe8c5a6d1ba2dd792cb16214</td>\n",
       "      <td>1</td>\n",
       "      <td>4244733e06e7ecb4970a6e2683c13e61</td>\n",
       "      <td>48436dade18ac8b2bce089ec2a041202</td>\n",
       "      <td>9/19/2017 9:45</td>\n",
       "      <td>58.9</td>\n",
       "      <td>13.29</td>\n",
       "      <td>3ce436f183e68e07877b285a838db11a</td>\n",
       "      <td>delivered</td>\n",
       "      <td>2017-09-13 08:59:00</td>\n",
       "      <td>...</td>\n",
       "      <td>72.19</td>\n",
       "      <td>Cool_Stuff</td>\n",
       "      <td>58.0</td>\n",
       "      <td>598.0</td>\n",
       "      <td>4.0</td>\n",
       "      <td>650.0</td>\n",
       "      <td>28.0</td>\n",
       "      <td>9.0</td>\n",
       "      <td>14.0</td>\n",
       "      <td>Sep</td>\n",
       "    </tr>\n",
       "    <tr>\n",
       "      <th>1</th>\n",
       "      <td>00018f77f2f0320c557190d7a144bdd3</td>\n",
       "      <td>1</td>\n",
       "      <td>e5f2d52b802189ee658865ca93d83a8f</td>\n",
       "      <td>dd7ddc04e1b6c2c614352b383efe2d36</td>\n",
       "      <td>5/3/2017 11:05</td>\n",
       "      <td>239.9</td>\n",
       "      <td>19.93</td>\n",
       "      <td>f6dd3ec061db4e3987629fe6b26e5cce</td>\n",
       "      <td>delivered</td>\n",
       "      <td>2017-04-26 10:53:00</td>\n",
       "      <td>...</td>\n",
       "      <td>259.83</td>\n",
       "      <td>Pet_Shop</td>\n",
       "      <td>56.0</td>\n",
       "      <td>239.0</td>\n",
       "      <td>2.0</td>\n",
       "      <td>30000.0</td>\n",
       "      <td>50.0</td>\n",
       "      <td>30.0</td>\n",
       "      <td>40.0</td>\n",
       "      <td>Apr</td>\n",
       "    </tr>\n",
       "  </tbody>\n",
       "</table>\n",
       "<p>2 rows × 25 columns</p>\n",
       "</div>"
      ],
      "text/plain": [
       "                           order_id  order_item_id  \\\n",
       "0  00010242fe8c5a6d1ba2dd792cb16214              1   \n",
       "1  00018f77f2f0320c557190d7a144bdd3              1   \n",
       "\n",
       "                         product_id                         seller_id  \\\n",
       "0  4244733e06e7ecb4970a6e2683c13e61  48436dade18ac8b2bce089ec2a041202   \n",
       "1  e5f2d52b802189ee658865ca93d83a8f  dd7ddc04e1b6c2c614352b383efe2d36   \n",
       "\n",
       "  shipping_limit_date  price  freight_value                       customer_id  \\\n",
       "0      9/19/2017 9:45   58.9          13.29  3ce436f183e68e07877b285a838db11a   \n",
       "1      5/3/2017 11:05  239.9          19.93  f6dd3ec061db4e3987629fe6b26e5cce   \n",
       "\n",
       "  order_status order_purchase_timestamp  ... net_price product_category_name  \\\n",
       "0    delivered      2017-09-13 08:59:00  ...     72.19            Cool_Stuff   \n",
       "1    delivered      2017-04-26 10:53:00  ...    259.83              Pet_Shop   \n",
       "\n",
       "  product_name_lenght product_description_lenght product_photos_qty  \\\n",
       "0                58.0                      598.0                4.0   \n",
       "1                56.0                      239.0                2.0   \n",
       "\n",
       "   product_weight_g product_length_cm  product_height_cm  product_width_cm  \\\n",
       "0             650.0              28.0                9.0              14.0   \n",
       "1           30000.0              50.0               30.0              40.0   \n",
       "\n",
       "   month  \n",
       "0    Sep  \n",
       "1    Apr  \n",
       "\n",
       "[2 rows x 25 columns]"
      ]
     },
     "execution_count": 28,
     "metadata": {},
     "output_type": "execute_result"
    }
   ],
   "source": [
    "orders_items_prod = pd.merge( order_item_month , products , how ='left' , on = 'product_id')\n",
    "orders_items_prod['month'] = orders_items_prod.order_purchase_timestamp.apply(lambda x: pd.Timestamp.strftime(x , format = \"%b\"))\n",
    "orders_items_prod.head(2)"
   ]
  },
  {
   "cell_type": "code",
   "execution_count": 29,
   "id": "c47e8391",
   "metadata": {},
   "outputs": [
    {
     "ename": "NameError",
     "evalue": "name 'order_items_prod' is not defined",
     "output_type": "error",
     "traceback": [
      "\u001b[1;31m---------------------------------------------------------------------------\u001b[0m",
      "\u001b[1;31mNameError\u001b[0m                                 Traceback (most recent call last)",
      "Input \u001b[1;32mIn [29]\u001b[0m, in \u001b[0;36m<cell line: 2>\u001b[1;34m()\u001b[0m\n\u001b[0;32m      1\u001b[0m \u001b[38;5;66;03m# Seasonality of sales, quantity by category.\u001b[39;00m\n\u001b[1;32m----> 2\u001b[0m cat_qty_sales \u001b[38;5;241m=\u001b[39m \u001b[43morder_items_prod\u001b[49m\u001b[38;5;241m.\u001b[39mgroupby(\u001b[38;5;124m'\u001b[39m\u001b[38;5;124mproduct_category_name\u001b[39m\u001b[38;5;124m'\u001b[39m)\u001b[38;5;241m.\u001b[39magg({\u001b[38;5;124m'\u001b[39m\u001b[38;5;124mproduct_id\u001b[39m\u001b[38;5;124m'\u001b[39m:\u001b[38;5;124m'\u001b[39m\u001b[38;5;124mcount\u001b[39m\u001b[38;5;124m'\u001b[39m,\n\u001b[0;32m      3\u001b[0m                                                        \u001b[38;5;124m'\u001b[39m\u001b[38;5;124mprice\u001b[39m\u001b[38;5;124m'\u001b[39m: \u001b[38;5;124m'\u001b[39m\u001b[38;5;124msum\u001b[39m\u001b[38;5;124m'\u001b[39m})\u001b[38;5;241m.\u001b[39mreset_index()\u001b[38;5;241m.\u001b[39mrename(columns\u001b[38;5;241m=\u001b[39m{\u001b[38;5;124m'\u001b[39m\u001b[38;5;124mproduct_id\u001b[39m\u001b[38;5;124m'\u001b[39m:\u001b[38;5;124m'\u001b[39m\u001b[38;5;124mquantity\u001b[39m\u001b[38;5;124m'\u001b[39m,\n\u001b[0;32m      4\u001b[0m                                                                                                       \u001b[38;5;124m'\u001b[39m\u001b[38;5;124mprice\u001b[39m\u001b[38;5;124m'\u001b[39m:\u001b[38;5;124m'\u001b[39m\u001b[38;5;124msales\u001b[39m\u001b[38;5;124m'\u001b[39m})\n\u001b[0;32m      5\u001b[0m cat_qty_sales\n",
      "\u001b[1;31mNameError\u001b[0m: name 'order_items_prod' is not defined"
     ]
    }
   ],
   "source": [
    "# Seasonality of sales, quantity by category.\n",
    "cat_qty_sales = order_items_prod.groupby('product_category_name').agg({'product_id':'count',\n",
    "                                                       'price': 'sum'}).reset_index().rename(columns={'product_id':'quantity',\n",
    "                                                                                                      'price':'sales'})\n",
    "cat_qty_sales"
   ]
  },
  {
   "cell_type": "code",
   "execution_count": null,
   "id": "25ea3304",
   "metadata": {},
   "outputs": [],
   "source": [
    "# Seasonality of sales, quantity by Month.\n",
    "month_qty_sales = orders_items_prod.groupby('month').agg({'product_id':'count',\n",
    "                                                       'price': 'sum'}).reset_index().rename(columns={'product_id':'quantity',\n",
    "                                                                                                      'price':'sales'})\n",
    "month_qty_sales"
   ]
  },
  {
   "cell_type": "markdown",
   "id": "1a892d24",
   "metadata": {},
   "source": [
    "### f. Popular Products by seller, state, category.\n"
   ]
  },
  {
   "cell_type": "code",
   "execution_count": null,
   "id": "12099a23",
   "metadata": {},
   "outputs": [],
   "source": [
    "# Popular product by sellers \n",
    "\n",
    "prod_seller = order_items_prod.groupby(['seller_id','product_id']).agg({'product_id':'count'}).rename(columns={'product_id':'count'}).reset_index()\n",
    "prod_seller= prod_seller.sort_values(by=['seller_id','count']).drop_duplicates(subset='seller_id' ,keep='last')\n",
    "prod_seller"
   ]
  },
  {
   "cell_type": "code",
   "execution_count": null,
   "id": "776eb393",
   "metadata": {},
   "outputs": [],
   "source": [
    "# Popular product by category\n",
    "prod_cat = order_items_prod.groupby(['product_category_name','product_id']).agg({'product_id':'count'}).rename(columns={'product_id':'count'}).reset_index()\n",
    "prod_cat= prod_cat.sort_values(by=['product_category_name','count']).drop_duplicates(subset='product_category_name' ,keep='last')\n",
    "prod_cat"
   ]
  },
  {
   "cell_type": "markdown",
   "id": "1059b3ae",
   "metadata": {},
   "source": [
    "### g. Popular categories by month"
   ]
  },
  {
   "cell_type": "code",
   "execution_count": null,
   "id": "26259477",
   "metadata": {},
   "outputs": [],
   "source": [
    "#orders_items_prod = pd.merge(order_item_month , products , on='product_id', how='left')\n",
    "#orders_items_prod['month'] = orders_items_prod.order_purchase_timestamp.apply(lambda x: pd.Timestamp.strftime(x , format = \"%m\"))"
   ]
  },
  {
   "cell_type": "code",
   "execution_count": null,
   "id": "c2f5403a",
   "metadata": {},
   "outputs": [],
   "source": [
    "# Popular category by month\n",
    "cat_month = orders_items_prod.groupby(['month','product_category_name']).agg({'product_category_name':'count'}).rename(columns={'product_category_name':'count'}).reset_index()\n",
    "cat_month= cat_month.sort_values(by=['month','count']).drop_duplicates(subset='month' ,keep='last')\n",
    "cat_month"
   ]
  },
  {
   "cell_type": "markdown",
   "id": "da967126",
   "metadata": {},
   "source": [
    "### h. List top 10 most expensive products sorted by price\n"
   ]
  },
  {
   "cell_type": "code",
   "execution_count": null,
   "id": "befe10b9",
   "metadata": {},
   "outputs": [],
   "source": [
    "print('Top 10 most expensive products sorted by price :')\n",
    "order_items.loc[:, ['product_id',\n",
    "                         'price']].drop_duplicates(subset='product_id' ).sort_values(by='price',\n",
    "                                                                                                ascending = False).head(10)"
   ]
  },
  {
   "cell_type": "markdown",
   "id": "a70a0f65",
   "metadata": {},
   "source": [
    "## 2. Performing Customers/sellers Segmentation\n",
    "### a. Divide the customers into groups based on the revenue generated"
   ]
  },
  {
   "cell_type": "code",
   "execution_count": null,
   "id": "dfb6d18f",
   "metadata": {},
   "outputs": [],
   "source": [
    "cust_order_item = pd.merge(cust_orders , order_items , how ='inner', on= 'order_id' )\n",
    "cust_order_item.head(2)"
   ]
  },
  {
   "cell_type": "code",
   "execution_count": null,
   "id": "b1242f29",
   "metadata": {},
   "outputs": [],
   "source": [
    "cust_order_item['net_price'] = cust_order_item.price + cust_order_item.freight_value"
   ]
  },
  {
   "cell_type": "code",
   "execution_count": null,
   "id": "62f96f7b",
   "metadata": {},
   "outputs": [],
   "source": [
    "cust_rev = cust_order_item.groupby('customer_unique_id')['net_price'].sum().reset_index()\n",
    "cust_rev.rename(columns ={'net_price':'total_spend_amt'} , inplace = True)\n",
    "cust_rev.head(2)"
   ]
  },
  {
   "cell_type": "code",
   "execution_count": null,
   "id": "e66af032",
   "metadata": {},
   "outputs": [],
   "source": [
    "cust_rev['cust_rev_group'] = pd.cut(cust_rev.total_spend_amt,\n",
    "                               bins= np.arange(0 , 15000, 1000),\n",
    "                               labels=['0-1000','1000-2000','2000-3000','3000-4000',\n",
    "                                       '4000-5000','5000-6000','6000-7000','7000-8000','8000-9000',\n",
    "                                      '9000-10000','10000-11000','11000-12000','12000-13000','13000-14000'])"
   ]
  },
  {
   "cell_type": "code",
   "execution_count": null,
   "id": "bf872175",
   "metadata": {},
   "outputs": [],
   "source": [
    "cust_rev.head()"
   ]
  },
  {
   "cell_type": "markdown",
   "id": "a4006fa3",
   "metadata": {},
   "source": [
    "### b. Divide the sellers into groups based on the revenue generated"
   ]
  },
  {
   "cell_type": "code",
   "execution_count": null,
   "id": "9a773f7a",
   "metadata": {},
   "outputs": [],
   "source": [
    "sellers_rev = order_items.groupby('seller_id')['price'].sum().reset_index()"
   ]
  },
  {
   "cell_type": "code",
   "execution_count": null,
   "id": "ffbf1721",
   "metadata": {},
   "outputs": [],
   "source": [
    "sellers_rev.rename( columns = {'price':'total_sold_amt'}, inplace= True)"
   ]
  },
  {
   "cell_type": "code",
   "execution_count": null,
   "id": "fd6942fc",
   "metadata": {},
   "outputs": [],
   "source": [
    "sellers_rev.total_sold_amt.max()"
   ]
  },
  {
   "cell_type": "code",
   "execution_count": null,
   "id": "80beeddc",
   "metadata": {},
   "outputs": [],
   "source": [
    "sellers_rev['sellers_rev_group'] = pd.cut(sellers_rev.total_sold_amt,\n",
    "                               bins= np.arange(0 , 300000, 50000),\n",
    "                               labels=['0-50000','50000-100000','100000-150000','150000-200000',\n",
    "                                       '200000-250000'])"
   ]
  },
  {
   "cell_type": "code",
   "execution_count": null,
   "id": "61ec7d14",
   "metadata": {},
   "outputs": [],
   "source": [
    "sellers_rev.head()"
   ]
  },
  {
   "cell_type": "markdown",
   "id": "b44db72c",
   "metadata": {},
   "source": [
    "## 3. Cross-Selling (Which products are selling together)"
   ]
  },
  {
   "cell_type": "code",
   "execution_count": null,
   "id": "fa80bb63",
   "metadata": {},
   "outputs": [],
   "source": [
    "orders_order_items = pd.merge(orders , order_items , how='left' , on='order_id' )\n",
    "orders_order_items.head(2)"
   ]
  },
  {
   "cell_type": "code",
   "execution_count": null,
   "id": "79513672",
   "metadata": {},
   "outputs": [],
   "source": [
    "cross_selling = orders_order_items[orders_order_items.duplicated(['order_purchase_timestamp','customer_id'],\n",
    "                                                                 keep=False)].sort_values(by='order_purchase_timestamp')\n",
    "cross_selling = cross_selling.loc[:,['customer_id','order_purchase_timestamp','product_id' ]]\n",
    "\n",
    "cross_selling.drop_duplicates(subset =\"product_id\" ,inplace=True)\n",
    "cross_selling = cross_selling[cross_selling.duplicated(['order_purchase_timestamp','customer_id'],\n",
    "                                                       keep=False)].sort_values(by='order_purchase_timestamp').reset_index()\n",
    "cross_selling.drop(columns = 'index',axis=1, inplace=True)\n",
    "\n",
    "print('Products with same customer id and order purchase timestamp are cross selling')\n",
    "cross_selling"
   ]
  },
  {
   "cell_type": "markdown",
   "id": "8def7222",
   "metadata": {},
   "source": [
    "## 4. Payment Behaviour\n",
    "### a. How customers are paying?"
   ]
  },
  {
   "cell_type": "code",
   "execution_count": null,
   "id": "f73ad1ae",
   "metadata": {},
   "outputs": [],
   "source": [
    "payment_types = order_payments.payment_type.drop_duplicates().reset_index().drop(columns = 'index')\n",
    "\n",
    "print('Customers are paying by Credit cards, UPIs, Vouchers and Debit cards.')\n",
    "payment_types"
   ]
  },
  {
   "cell_type": "markdown",
   "id": "211efc91",
   "metadata": {},
   "source": [
    "### b. Which payment channels are used by most customers?"
   ]
  },
  {
   "cell_type": "code",
   "execution_count": null,
   "id": "6e518982",
   "metadata": {},
   "outputs": [],
   "source": [
    "payment_chnnl = order_payments.groupby('payment_type')[['payment_type']].count()\n",
    "payment_chnnl = payment_chnnl.rename( columns={'payment_type':'No_of_transaction'}).sort_values(by='No_of_transaction',\n",
    "                                                                                                              ascending = False).reset_index()\n",
    "print('For the payments, Credit card and UPI are used by most of the customers')\n",
    "payment_chnnl"
   ]
  },
  {
   "cell_type": "markdown",
   "id": "670c8278",
   "metadata": {},
   "source": [
    "## 5. Customer satisfaction towards category & product\n",
    "### a. Which categories (top 10) are maximum rated & minimum rated?"
   ]
  },
  {
   "cell_type": "code",
   "execution_count": null,
   "id": "00a16bc8",
   "metadata": {},
   "outputs": [],
   "source": [
    "order_items_prod_review = pd.merge(order_items_prod, order_review_ratings ,how= 'left', on = 'order_id')\n",
    "category_review = order_items_prod_review.groupby('product_category_name')['review_score'].sum().reset_index()\n",
    "max_rate_cat = category_review.sort_values(by='review_score',ascending = False).head(10).reset_index().drop(columns = 'index')\n",
    "\n",
    "print('Top ten maximum rated product categories :')\n",
    "max_rate_cat"
   ]
  },
  {
   "cell_type": "code",
   "execution_count": null,
   "id": "bfc485dd",
   "metadata": {},
   "outputs": [],
   "source": [
    "min_rate_cat = category_review.sort_values(by='review_score').head(10).reset_index().drop(columns = 'index')\n",
    "\n",
    "print('Top ten minimum rated product categories :')\n",
    "min_rate_cat"
   ]
  },
  {
   "cell_type": "markdown",
   "id": "87287082",
   "metadata": {},
   "source": [
    "### b. Which products (top10) are maximum rated & minimum rated?"
   ]
  },
  {
   "cell_type": "code",
   "execution_count": null,
   "id": "1a249742",
   "metadata": {},
   "outputs": [],
   "source": [
    "product_review = order_items_prod_review.groupby('product_id')['review_score'].sum().reset_index()\n",
    "max_rate_prod = product_review.sort_values(by='review_score',ascending = False).head(10).reset_index().drop(columns = 'index')\n",
    "\n",
    "print('Top ten maximum rated products :')\n",
    "max_rate_prod"
   ]
  },
  {
   "cell_type": "code",
   "execution_count": null,
   "id": "52d823f5",
   "metadata": {},
   "outputs": [],
   "source": [
    "min_rate_prod = product_review.sort_values(by='review_score').head(10).reset_index().drop(columns = 'index')\n",
    "\n",
    "print('Top ten minimum rated products :')\n",
    "min_rate_prod"
   ]
  },
  {
   "cell_type": "markdown",
   "id": "40032952",
   "metadata": {},
   "source": [
    "### c. Average rating by location, seller,  month etc."
   ]
  },
  {
   "cell_type": "code",
   "execution_count": null,
   "id": "5bba1db9",
   "metadata": {},
   "outputs": [],
   "source": [
    "order_review_ratings2 = pd.merge(orders, order_review_ratings, on='order_id' , how='left')\n",
    "order_review_ratings2 = pd.merge(order_review_ratings2, customers, on='customer_id' , how='left')\n",
    "order_review_ratings2 = pd.merge(order_review_ratings2, order_items, on='order_id' , how='left')\n",
    "order_review_ratings2.head(2)"
   ]
  },
  {
   "cell_type": "code",
   "execution_count": null,
   "id": "0e6b9134",
   "metadata": {},
   "outputs": [],
   "source": [
    "# Average rating by location\n",
    "avg_rating_location = order_review_ratings2.groupby('customer_state')['review_score'].mean().reset_index()\n",
    "avg_rating_location.rename(columns={'customer_state':'Location', 'review_score':'Avg_review'}, inplace =True)\n",
    "avg_rating_location"
   ]
  },
  {
   "cell_type": "code",
   "execution_count": null,
   "id": "bad4359c",
   "metadata": {},
   "outputs": [],
   "source": [
    "# Average rating by seller\n",
    "avg_rating_seller = order_review_ratings2.groupby('seller_id')['review_score'].mean().reset_index()\n",
    "avg_rating_seller.rename(columns={'review_score':'Avg_review'}, inplace =True)\n",
    "avg_rating_seller"
   ]
  }
 ],
 "metadata": {
  "kernelspec": {
   "display_name": "Python 3 (ipykernel)",
   "language": "python",
   "name": "python3"
  },
  "language_info": {
   "codemirror_mode": {
    "name": "ipython",
    "version": 3
   },
   "file_extension": ".py",
   "mimetype": "text/x-python",
   "name": "python",
   "nbconvert_exporter": "python",
   "pygments_lexer": "ipython3",
   "version": "3.9.12"
  }
 },
 "nbformat": 4,
 "nbformat_minor": 5
}
