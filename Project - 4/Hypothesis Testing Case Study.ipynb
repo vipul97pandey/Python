{
 "cells": [
  {
   "cell_type": "code",
   "execution_count": 1,
   "id": "a5e31324",
   "metadata": {},
   "outputs": [],
   "source": [
    "import numpy as np\n",
    "import pandas as pd\n",
    "import matplotlib.pyplot as plt\n",
    "import seaborn as sns\n",
    "\n",
    "%matplotlib inline\n",
    "\n",
    "import scipy.stats as stats\n",
    "data = r\"C:\\Users\\Lenovo\\Documents\\Data\"\n"
   ]
  },
  {
   "cell_type": "code",
   "execution_count": 2,
   "id": "55632805",
   "metadata": {},
   "outputs": [],
   "source": [
    "#UDF \n",
    "def fn_descriptives( x ):\n",
    "    \n",
    "    n_tot = x.isnull().count()\n",
    "    n_miss = x.isnull().sum()\n",
    "    n_miss_perc = n_miss / n_tot\n",
    "    \n",
    "    p25 = x.quantile(0.25)\n",
    "    p75 = x.quantile(0.75)\n",
    "    \n",
    "    iqr = p75 - p25\n",
    "    \n",
    "    lc_iqr = p25 - 1.5 * iqr\n",
    "    uc_iqr = p75 + 1.5 * iqr\n",
    "    \n",
    "    return pd.Series( [ x.dtype, x.nunique(), n_tot, x.count(), n_miss, n_miss_perc, \n",
    "                       x.sum(), x.var(), x.std(), x.mean(), \n",
    "                       iqr, lc_iqr, uc_iqr, \n",
    "                       x.min(), x.quantile(0.01), x.quantile(0.05), x.quantile(0.10), \n",
    "                       x.quantile(0.25), x.quantile(0.50), x.quantile(0.75), \n",
    "                       x.quantile(0.90), x.quantile(0.95), x.quantile(0.99), x.max()],\n",
    "                     \n",
    "                    index = ['dtype', 'cardinality', 'n_tot', 'n', 'n_miss', 'n_miss_perc',\n",
    "                             'sum', 'var', 'std', 'mean',\n",
    "                             'iqr', 'lc_iqr', 'uc_iqr',\n",
    "                             'min', 'p1', 'p5', 'p10', \n",
    "                             'p25', 'p50', 'p75', \n",
    "                             'p90', 'p95', 'p99', 'max'])"
   ]
  },
  {
   "cell_type": "markdown",
   "id": "76606c87",
   "metadata": {},
   "source": [
    "## BUSINESS PROBLEM-1"
   ]
  },
  {
   "cell_type": "code",
   "execution_count": 3,
   "id": "b6e33d2c",
   "metadata": {},
   "outputs": [
    {
     "data": {
      "text/html": [
       "<div>\n",
       "<style scoped>\n",
       "    .dataframe tbody tr th:only-of-type {\n",
       "        vertical-align: middle;\n",
       "    }\n",
       "\n",
       "    .dataframe tbody tr th {\n",
       "        vertical-align: top;\n",
       "    }\n",
       "\n",
       "    .dataframe thead th {\n",
       "        text-align: right;\n",
       "    }\n",
       "</style>\n",
       "<table border=\"1\" class=\"dataframe\">\n",
       "  <thead>\n",
       "    <tr style=\"text-align: right;\">\n",
       "      <th></th>\n",
       "      <th>Amount.Requested</th>\n",
       "      <th>Amount.Funded.By.Investors</th>\n",
       "      <th>Interest.Rate</th>\n",
       "      <th>Loan.Length</th>\n",
       "      <th>Loan.Purpose</th>\n",
       "      <th>Debt.To.Income.Ratio</th>\n",
       "      <th>State</th>\n",
       "      <th>Home.Ownership</th>\n",
       "      <th>Monthly.Income</th>\n",
       "      <th>FICO.Range</th>\n",
       "      <th>Open.CREDIT.Lines</th>\n",
       "      <th>Revolving.CREDIT.Balance</th>\n",
       "      <th>Inquiries.in.the.Last.6.Months</th>\n",
       "      <th>Employment.Length</th>\n",
       "    </tr>\n",
       "  </thead>\n",
       "  <tbody>\n",
       "    <tr>\n",
       "      <th>0</th>\n",
       "      <td>20000.0</td>\n",
       "      <td>20000.0</td>\n",
       "      <td>8.90%</td>\n",
       "      <td>36 months</td>\n",
       "      <td>debt_consolidation</td>\n",
       "      <td>14.90%</td>\n",
       "      <td>SC</td>\n",
       "      <td>MORTGAGE</td>\n",
       "      <td>6541.67</td>\n",
       "      <td>735-739</td>\n",
       "      <td>14.0</td>\n",
       "      <td>14272.0</td>\n",
       "      <td>2.0</td>\n",
       "      <td>&lt; 1 year</td>\n",
       "    </tr>\n",
       "    <tr>\n",
       "      <th>1</th>\n",
       "      <td>19200.0</td>\n",
       "      <td>19200.0</td>\n",
       "      <td>12.12%</td>\n",
       "      <td>36 months</td>\n",
       "      <td>debt_consolidation</td>\n",
       "      <td>28.36%</td>\n",
       "      <td>TX</td>\n",
       "      <td>MORTGAGE</td>\n",
       "      <td>4583.33</td>\n",
       "      <td>715-719</td>\n",
       "      <td>12.0</td>\n",
       "      <td>11140.0</td>\n",
       "      <td>1.0</td>\n",
       "      <td>2 years</td>\n",
       "    </tr>\n",
       "  </tbody>\n",
       "</table>\n",
       "</div>"
      ],
      "text/plain": [
       "   Amount.Requested  Amount.Funded.By.Investors Interest.Rate Loan.Length  \\\n",
       "0           20000.0                     20000.0         8.90%   36 months   \n",
       "1           19200.0                     19200.0        12.12%   36 months   \n",
       "\n",
       "         Loan.Purpose Debt.To.Income.Ratio State Home.Ownership  \\\n",
       "0  debt_consolidation               14.90%    SC       MORTGAGE   \n",
       "1  debt_consolidation               28.36%    TX       MORTGAGE   \n",
       "\n",
       "   Monthly.Income FICO.Range  Open.CREDIT.Lines  Revolving.CREDIT.Balance  \\\n",
       "0         6541.67    735-739               14.0                   14272.0   \n",
       "1         4583.33    715-719               12.0                   11140.0   \n",
       "\n",
       "   Inquiries.in.the.Last.6.Months Employment.Length  \n",
       "0                             2.0          < 1 year  \n",
       "1                             1.0           2 years  "
      ]
     },
     "execution_count": 3,
     "metadata": {},
     "output_type": "execute_result"
    }
   ],
   "source": [
    "loan_data = pd.read_csv(data + '\\\\LoansData.csv')\n",
    "loan_data.head(2)"
   ]
  },
  {
   "cell_type": "markdown",
   "id": "0f37b755",
   "metadata": {},
   "source": [
    "#### DATA PREP"
   ]
  },
  {
   "cell_type": "code",
   "execution_count": 4,
   "id": "f362718d",
   "metadata": {},
   "outputs": [
    {
     "data": {
      "text/plain": [
       "(2500, 14)"
      ]
     },
     "execution_count": 4,
     "metadata": {},
     "output_type": "execute_result"
    }
   ],
   "source": [
    "loan_data.shape"
   ]
  },
  {
   "cell_type": "code",
   "execution_count": 5,
   "id": "6bb8dde1",
   "metadata": {},
   "outputs": [
    {
     "data": {
      "text/plain": [
       "Index(['Amount.Requested', 'Amount.Funded.By.Investors', 'Interest.Rate',\n",
       "       'Loan.Length', 'Loan.Purpose', 'Debt.To.Income.Ratio', 'State',\n",
       "       'Home.Ownership', 'Monthly.Income', 'FICO.Range', 'Open.CREDIT.Lines',\n",
       "       'Revolving.CREDIT.Balance', 'Inquiries.in.the.Last.6.Months',\n",
       "       'Employment.Length'],\n",
       "      dtype='object')"
      ]
     },
     "execution_count": 5,
     "metadata": {},
     "output_type": "execute_result"
    }
   ],
   "source": [
    "loan_data.columns"
   ]
  },
  {
   "cell_type": "code",
   "execution_count": 6,
   "id": "a46a485a",
   "metadata": {},
   "outputs": [],
   "source": [
    "#Assigning the correct column names of the data\n",
    "loan_data.rename( {'Amount.Requested': 'amt_req', 'Amount.Funded.By.Investors': 'amt_funded_by_investors', 'Interest.Rate': 'interest_rate',\n",
    "       'Loan.Length': 'loan_length_Month', 'Loan.Purpose': 'loan_purpose', 'Debt.To.Income.Ratio': 'debt_to_inc_ratio',\n",
    "       'Home.Ownership': 'home_ownership', 'Monthly.Income':'monthly_inc', 'FICO.Range':'FICO_Range', 'Open.CREDIT.Lines':'open_REDIT_lines',\n",
    "       'Revolving.CREDIT.Balance': 'revolving_CREDIT_Bal' , 'Inquiries.in.the.Last.6.Months':'last_6month_inquiries',\n",
    "       'Employment.Length':'employment_Length'}, axis= 1 , inplace= True)"
   ]
  },
  {
   "cell_type": "code",
   "execution_count": 7,
   "id": "23380086",
   "metadata": {},
   "outputs": [
    {
     "data": {
      "text/plain": [
       "Index(['amt_req', 'amt_funded_by_investors', 'interest_rate',\n",
       "       'loan_length_Month', 'loan_purpose', 'debt_to_inc_ratio', 'State',\n",
       "       'home_ownership', 'monthly_inc', 'FICO_Range', 'open_REDIT_lines',\n",
       "       'revolving_CREDIT_Bal', 'last_6month_inquiries', 'employment_Length'],\n",
       "      dtype='object')"
      ]
     },
     "execution_count": 7,
     "metadata": {},
     "output_type": "execute_result"
    }
   ],
   "source": [
    "loan_data.columns"
   ]
  },
  {
   "cell_type": "code",
   "execution_count": 8,
   "id": "613d0141",
   "metadata": {},
   "outputs": [],
   "source": [
    "# removing % symbol from the data\n",
    "loan_data.interest_rate = loan_data.interest_rate.str.replace(\"%\", '').astype('float')\n",
    "loan_data.debt_to_inc_ratio = loan_data.debt_to_inc_ratio.str.replace(\"%\", '').astype('float')\n",
    "# loan length col\n",
    "loan_data.loan_length_Month = loan_data.loan_length_Month.str.replace(\"months\", '').astype('float')"
   ]
  },
  {
   "cell_type": "code",
   "execution_count": 9,
   "id": "04b7889d",
   "metadata": {},
   "outputs": [
    {
     "data": {
      "text/plain": [
       "amt_req                     1\n",
       "amt_funded_by_investors     1\n",
       "interest_rate               2\n",
       "loan_length_Month           0\n",
       "loan_purpose                0\n",
       "debt_to_inc_ratio           1\n",
       "State                       0\n",
       "home_ownership              1\n",
       "monthly_inc                 1\n",
       "FICO_Range                  2\n",
       "open_REDIT_lines            3\n",
       "revolving_CREDIT_Bal        3\n",
       "last_6month_inquiries       3\n",
       "employment_Length          77\n",
       "dtype: int64"
      ]
     },
     "execution_count": 9,
     "metadata": {},
     "output_type": "execute_result"
    }
   ],
   "source": [
    "# null value treatment\n",
    "loan_data.isnull().sum()"
   ]
  },
  {
   "cell_type": "code",
   "execution_count": 10,
   "id": "be33b4b7",
   "metadata": {},
   "outputs": [],
   "source": [
    "loan_data.drop( columns='employment_Length' , inplace= True)\n",
    "loan_data.dropna( inplace= True)"
   ]
  },
  {
   "cell_type": "code",
   "execution_count": 11,
   "id": "79a7701d",
   "metadata": {},
   "outputs": [
    {
     "data": {
      "text/plain": [
       "(2489, 13)"
      ]
     },
     "execution_count": 11,
     "metadata": {},
     "output_type": "execute_result"
    }
   ],
   "source": [
    "loan_data.shape"
   ]
  },
  {
   "cell_type": "code",
   "execution_count": 12,
   "id": "68948c7b",
   "metadata": {},
   "outputs": [],
   "source": [
    "# seperate categorical and continuous variables\n",
    "loan_data_conti_vars = loan_data.loc[:, (loan_data.dtypes == 'float64') | (loan_data.dtypes == 'int64')]\n",
    "loan_data_cat_vars = loan_data.loc[:, (loan_data.dtypes == 'object')]"
   ]
  },
  {
   "cell_type": "code",
   "execution_count": 13,
   "id": "97195e7a",
   "metadata": {},
   "outputs": [
    {
     "data": {
      "text/html": [
       "<div>\n",
       "<style scoped>\n",
       "    .dataframe tbody tr th:only-of-type {\n",
       "        vertical-align: middle;\n",
       "    }\n",
       "\n",
       "    .dataframe tbody tr th {\n",
       "        vertical-align: top;\n",
       "    }\n",
       "\n",
       "    .dataframe thead th {\n",
       "        text-align: right;\n",
       "    }\n",
       "</style>\n",
       "<table border=\"1\" class=\"dataframe\">\n",
       "  <thead>\n",
       "    <tr style=\"text-align: right;\">\n",
       "      <th></th>\n",
       "      <th>amt_req</th>\n",
       "      <th>amt_funded_by_investors</th>\n",
       "      <th>interest_rate</th>\n",
       "      <th>loan_length_Month</th>\n",
       "      <th>debt_to_inc_ratio</th>\n",
       "      <th>monthly_inc</th>\n",
       "      <th>open_REDIT_lines</th>\n",
       "      <th>revolving_CREDIT_Bal</th>\n",
       "      <th>last_6month_inquiries</th>\n",
       "    </tr>\n",
       "  </thead>\n",
       "  <tbody>\n",
       "    <tr>\n",
       "      <th>dtype</th>\n",
       "      <td>float64</td>\n",
       "      <td>float64</td>\n",
       "      <td>float64</td>\n",
       "      <td>float64</td>\n",
       "      <td>float64</td>\n",
       "      <td>float64</td>\n",
       "      <td>float64</td>\n",
       "      <td>float64</td>\n",
       "      <td>float64</td>\n",
       "    </tr>\n",
       "    <tr>\n",
       "      <th>cardinality</th>\n",
       "      <td>378</td>\n",
       "      <td>707</td>\n",
       "      <td>273</td>\n",
       "      <td>2</td>\n",
       "      <td>1664</td>\n",
       "      <td>630</td>\n",
       "      <td>29</td>\n",
       "      <td>2342</td>\n",
       "      <td>10</td>\n",
       "    </tr>\n",
       "    <tr>\n",
       "      <th>n_tot</th>\n",
       "      <td>2489</td>\n",
       "      <td>2489</td>\n",
       "      <td>2489</td>\n",
       "      <td>2489</td>\n",
       "      <td>2489</td>\n",
       "      <td>2489</td>\n",
       "      <td>2489</td>\n",
       "      <td>2489</td>\n",
       "      <td>2489</td>\n",
       "    </tr>\n",
       "    <tr>\n",
       "      <th>n</th>\n",
       "      <td>2489</td>\n",
       "      <td>2489</td>\n",
       "      <td>2489</td>\n",
       "      <td>2489</td>\n",
       "      <td>2489</td>\n",
       "      <td>2489</td>\n",
       "      <td>2489</td>\n",
       "      <td>2489</td>\n",
       "      <td>2489</td>\n",
       "    </tr>\n",
       "    <tr>\n",
       "      <th>n_miss</th>\n",
       "      <td>0</td>\n",
       "      <td>0</td>\n",
       "      <td>0</td>\n",
       "      <td>0</td>\n",
       "      <td>0</td>\n",
       "      <td>0</td>\n",
       "      <td>0</td>\n",
       "      <td>0</td>\n",
       "      <td>0</td>\n",
       "    </tr>\n",
       "    <tr>\n",
       "      <th>n_miss_perc</th>\n",
       "      <td>0.0</td>\n",
       "      <td>0.0</td>\n",
       "      <td>0.0</td>\n",
       "      <td>0.0</td>\n",
       "      <td>0.0</td>\n",
       "      <td>0.0</td>\n",
       "      <td>0.0</td>\n",
       "      <td>0.0</td>\n",
       "      <td>0.0</td>\n",
       "    </tr>\n",
       "    <tr>\n",
       "      <th>sum</th>\n",
       "      <td>30888300.0</td>\n",
       "      <td>29879833.09</td>\n",
       "      <td>32533.5</td>\n",
       "      <td>102756.0</td>\n",
       "      <td>38286.26</td>\n",
       "      <td>14150580.53</td>\n",
       "      <td>25075.0</td>\n",
       "      <td>37883581.0</td>\n",
       "      <td>2254.0</td>\n",
       "    </tr>\n",
       "    <tr>\n",
       "      <th>var</th>\n",
       "      <td>60945301.903335</td>\n",
       "      <td>60039786.026045</td>\n",
       "      <td>17.450548</td>\n",
       "      <td>98.935762</td>\n",
       "      <td>56.357326</td>\n",
       "      <td>15727546.230929</td>\n",
       "      <td>20.3333</td>\n",
       "      <td>334804674.667375</td>\n",
       "      <td>1.517208</td>\n",
       "    </tr>\n",
       "    <tr>\n",
       "      <th>std</th>\n",
       "      <td>7806.747204</td>\n",
       "      <td>7748.534444</td>\n",
       "      <td>4.177385</td>\n",
       "      <td>9.946646</td>\n",
       "      <td>7.507152</td>\n",
       "      <td>3965.797049</td>\n",
       "      <td>4.509246</td>\n",
       "      <td>18297.668558</td>\n",
       "      <td>1.23175</td>\n",
       "    </tr>\n",
       "    <tr>\n",
       "      <th>mean</th>\n",
       "      <td>12409.923664</td>\n",
       "      <td>12004.754154</td>\n",
       "      <td>13.070912</td>\n",
       "      <td>41.28405</td>\n",
       "      <td>15.382186</td>\n",
       "      <td>5685.2473</td>\n",
       "      <td>10.074327</td>\n",
       "      <td>15220.40217</td>\n",
       "      <td>0.905585</td>\n",
       "    </tr>\n",
       "    <tr>\n",
       "      <th>iqr</th>\n",
       "      <td>11000.0</td>\n",
       "      <td>10000.0</td>\n",
       "      <td>5.64</td>\n",
       "      <td>0.0</td>\n",
       "      <td>10.94</td>\n",
       "      <td>3333.33</td>\n",
       "      <td>6.0</td>\n",
       "      <td>13337.0</td>\n",
       "      <td>1.0</td>\n",
       "    </tr>\n",
       "    <tr>\n",
       "      <th>lc_iqr</th>\n",
       "      <td>-10500.0</td>\n",
       "      <td>-9000.0</td>\n",
       "      <td>1.7</td>\n",
       "      <td>36.0</td>\n",
       "      <td>-6.66</td>\n",
       "      <td>-1533.325</td>\n",
       "      <td>-2.0</td>\n",
       "      <td>-14444.5</td>\n",
       "      <td>-1.5</td>\n",
       "    </tr>\n",
       "    <tr>\n",
       "      <th>uc_iqr</th>\n",
       "      <td>33500.0</td>\n",
       "      <td>31000.0</td>\n",
       "      <td>24.26</td>\n",
       "      <td>36.0</td>\n",
       "      <td>37.1</td>\n",
       "      <td>11799.995</td>\n",
       "      <td>22.0</td>\n",
       "      <td>38903.5</td>\n",
       "      <td>2.5</td>\n",
       "    </tr>\n",
       "    <tr>\n",
       "      <th>min</th>\n",
       "      <td>1000.0</td>\n",
       "      <td>-0.01</td>\n",
       "      <td>5.42</td>\n",
       "      <td>36.0</td>\n",
       "      <td>0.0</td>\n",
       "      <td>588.5</td>\n",
       "      <td>2.0</td>\n",
       "      <td>0.0</td>\n",
       "      <td>0.0</td>\n",
       "    </tr>\n",
       "    <tr>\n",
       "      <th>p1</th>\n",
       "      <td>1500.0</td>\n",
       "      <td>1000.0</td>\n",
       "      <td>5.966</td>\n",
       "      <td>36.0</td>\n",
       "      <td>0.708</td>\n",
       "      <td>1415.0692</td>\n",
       "      <td>3.0</td>\n",
       "      <td>0.0</td>\n",
       "      <td>0.0</td>\n",
       "    </tr>\n",
       "    <tr>\n",
       "      <th>p5</th>\n",
       "      <td>2830.0</td>\n",
       "      <td>2210.0</td>\n",
       "      <td>6.62</td>\n",
       "      <td>36.0</td>\n",
       "      <td>3.168</td>\n",
       "      <td>2162.668</td>\n",
       "      <td>4.0</td>\n",
       "      <td>904.6</td>\n",
       "      <td>0.0</td>\n",
       "    </tr>\n",
       "    <tr>\n",
       "      <th>p10</th>\n",
       "      <td>4000.0</td>\n",
       "      <td>3600.0</td>\n",
       "      <td>7.62</td>\n",
       "      <td>36.0</td>\n",
       "      <td>5.308</td>\n",
       "      <td>2600.0</td>\n",
       "      <td>5.0</td>\n",
       "      <td>2288.6</td>\n",
       "      <td>0.0</td>\n",
       "    </tr>\n",
       "    <tr>\n",
       "      <th>p25</th>\n",
       "      <td>6000.0</td>\n",
       "      <td>6000.0</td>\n",
       "      <td>10.16</td>\n",
       "      <td>36.0</td>\n",
       "      <td>9.75</td>\n",
       "      <td>3466.67</td>\n",
       "      <td>7.0</td>\n",
       "      <td>5561.0</td>\n",
       "      <td>0.0</td>\n",
       "    </tr>\n",
       "    <tr>\n",
       "      <th>p50</th>\n",
       "      <td>10000.0</td>\n",
       "      <td>10000.0</td>\n",
       "      <td>13.11</td>\n",
       "      <td>36.0</td>\n",
       "      <td>15.32</td>\n",
       "      <td>5000.0</td>\n",
       "      <td>9.0</td>\n",
       "      <td>10944.0</td>\n",
       "      <td>0.0</td>\n",
       "    </tr>\n",
       "    <tr>\n",
       "      <th>p75</th>\n",
       "      <td>17000.0</td>\n",
       "      <td>16000.0</td>\n",
       "      <td>15.8</td>\n",
       "      <td>36.0</td>\n",
       "      <td>20.69</td>\n",
       "      <td>6800.0</td>\n",
       "      <td>13.0</td>\n",
       "      <td>18898.0</td>\n",
       "      <td>1.0</td>\n",
       "    </tr>\n",
       "    <tr>\n",
       "      <th>p90</th>\n",
       "      <td>24000.0</td>\n",
       "      <td>23950.0</td>\n",
       "      <td>18.64</td>\n",
       "      <td>60.0</td>\n",
       "      <td>25.014</td>\n",
       "      <td>9297.33</td>\n",
       "      <td>16.0</td>\n",
       "      <td>30000.0</td>\n",
       "      <td>3.0</td>\n",
       "    </tr>\n",
       "    <tr>\n",
       "      <th>p95</th>\n",
       "      <td>28000.0</td>\n",
       "      <td>27925.0</td>\n",
       "      <td>20.49</td>\n",
       "      <td>60.0</td>\n",
       "      <td>28.326</td>\n",
       "      <td>11666.67</td>\n",
       "      <td>18.0</td>\n",
       "      <td>40579.8</td>\n",
       "      <td>3.0</td>\n",
       "    </tr>\n",
       "    <tr>\n",
       "      <th>p99</th>\n",
       "      <td>35000.0</td>\n",
       "      <td>35000.0</td>\n",
       "      <td>22.9896</td>\n",
       "      <td>60.0</td>\n",
       "      <td>33.23</td>\n",
       "      <td>18750.0</td>\n",
       "      <td>23.0</td>\n",
       "      <td>92502.92</td>\n",
       "      <td>5.0</td>\n",
       "    </tr>\n",
       "    <tr>\n",
       "      <th>max</th>\n",
       "      <td>35000.0</td>\n",
       "      <td>35000.0</td>\n",
       "      <td>24.89</td>\n",
       "      <td>60.0</td>\n",
       "      <td>34.91</td>\n",
       "      <td>102750.0</td>\n",
       "      <td>38.0</td>\n",
       "      <td>270800.0</td>\n",
       "      <td>9.0</td>\n",
       "    </tr>\n",
       "  </tbody>\n",
       "</table>\n",
       "</div>"
      ],
      "text/plain": [
       "                     amt_req amt_funded_by_investors interest_rate  \\\n",
       "dtype                float64                 float64       float64   \n",
       "cardinality              378                     707           273   \n",
       "n_tot                   2489                    2489          2489   \n",
       "n                       2489                    2489          2489   \n",
       "n_miss                     0                       0             0   \n",
       "n_miss_perc              0.0                     0.0           0.0   \n",
       "sum               30888300.0             29879833.09       32533.5   \n",
       "var          60945301.903335         60039786.026045     17.450548   \n",
       "std              7806.747204             7748.534444      4.177385   \n",
       "mean            12409.923664            12004.754154     13.070912   \n",
       "iqr                  11000.0                 10000.0          5.64   \n",
       "lc_iqr              -10500.0                 -9000.0           1.7   \n",
       "uc_iqr               33500.0                 31000.0         24.26   \n",
       "min                   1000.0                   -0.01          5.42   \n",
       "p1                    1500.0                  1000.0         5.966   \n",
       "p5                    2830.0                  2210.0          6.62   \n",
       "p10                   4000.0                  3600.0          7.62   \n",
       "p25                   6000.0                  6000.0         10.16   \n",
       "p50                  10000.0                 10000.0         13.11   \n",
       "p75                  17000.0                 16000.0          15.8   \n",
       "p90                  24000.0                 23950.0         18.64   \n",
       "p95                  28000.0                 27925.0         20.49   \n",
       "p99                  35000.0                 35000.0       22.9896   \n",
       "max                  35000.0                 35000.0         24.89   \n",
       "\n",
       "            loan_length_Month debt_to_inc_ratio      monthly_inc  \\\n",
       "dtype                 float64           float64          float64   \n",
       "cardinality                 2              1664              630   \n",
       "n_tot                    2489              2489             2489   \n",
       "n                        2489              2489             2489   \n",
       "n_miss                      0                 0                0   \n",
       "n_miss_perc               0.0               0.0              0.0   \n",
       "sum                  102756.0          38286.26      14150580.53   \n",
       "var                 98.935762         56.357326  15727546.230929   \n",
       "std                  9.946646          7.507152      3965.797049   \n",
       "mean                 41.28405         15.382186        5685.2473   \n",
       "iqr                       0.0             10.94          3333.33   \n",
       "lc_iqr                   36.0             -6.66        -1533.325   \n",
       "uc_iqr                   36.0              37.1        11799.995   \n",
       "min                      36.0               0.0            588.5   \n",
       "p1                       36.0             0.708        1415.0692   \n",
       "p5                       36.0             3.168         2162.668   \n",
       "p10                      36.0             5.308           2600.0   \n",
       "p25                      36.0              9.75          3466.67   \n",
       "p50                      36.0             15.32           5000.0   \n",
       "p75                      36.0             20.69           6800.0   \n",
       "p90                      60.0            25.014          9297.33   \n",
       "p95                      60.0            28.326         11666.67   \n",
       "p99                      60.0             33.23          18750.0   \n",
       "max                      60.0             34.91         102750.0   \n",
       "\n",
       "            open_REDIT_lines revolving_CREDIT_Bal last_6month_inquiries  \n",
       "dtype                float64              float64               float64  \n",
       "cardinality               29                 2342                    10  \n",
       "n_tot                   2489                 2489                  2489  \n",
       "n                       2489                 2489                  2489  \n",
       "n_miss                     0                    0                     0  \n",
       "n_miss_perc              0.0                  0.0                   0.0  \n",
       "sum                  25075.0           37883581.0                2254.0  \n",
       "var                  20.3333     334804674.667375              1.517208  \n",
       "std                 4.509246         18297.668558               1.23175  \n",
       "mean               10.074327          15220.40217              0.905585  \n",
       "iqr                      6.0              13337.0                   1.0  \n",
       "lc_iqr                  -2.0             -14444.5                  -1.5  \n",
       "uc_iqr                  22.0              38903.5                   2.5  \n",
       "min                      2.0                  0.0                   0.0  \n",
       "p1                       3.0                  0.0                   0.0  \n",
       "p5                       4.0                904.6                   0.0  \n",
       "p10                      5.0               2288.6                   0.0  \n",
       "p25                      7.0               5561.0                   0.0  \n",
       "p50                      9.0              10944.0                   0.0  \n",
       "p75                     13.0              18898.0                   1.0  \n",
       "p90                     16.0              30000.0                   3.0  \n",
       "p95                     18.0              40579.8                   3.0  \n",
       "p99                     23.0             92502.92                   5.0  \n",
       "max                     38.0             270800.0                   9.0  "
      ]
     },
     "execution_count": 13,
     "metadata": {},
     "output_type": "execute_result"
    }
   ],
   "source": [
    "loan_data_conti_vars.apply(fn_descriptives)"
   ]
  },
  {
   "cell_type": "code",
   "execution_count": 14,
   "id": "c29554aa",
   "metadata": {},
   "outputs": [],
   "source": [
    "# outlier treatment\n",
    "for var in loan_data_conti_vars.columns:\n",
    "        loan_data[var] = np.where(loan_data[var] > loan_data[var].quantile(0.99) ,\n",
    "                                    loan_data[var].quantile(0.99), loan_data[var])"
   ]
  },
  {
   "cell_type": "markdown",
   "id": "87d4c777",
   "metadata": {},
   "source": [
    "### a. Intrest rate is varied for different loan amounts (Less intrest charged for high loan amounts)"
   ]
  },
  {
   "cell_type": "code",
   "execution_count": 15,
   "id": "adf36e8c",
   "metadata": {},
   "outputs": [
    {
     "data": {
      "text/plain": [
       "(0.3341023116568378, 5.737570334459154e-66)"
      ]
     },
     "execution_count": 15,
     "metadata": {},
     "output_type": "execute_result"
    }
   ],
   "source": [
    "# Ho: No corelation, independant\n",
    "# Ha: variables are related, dependant\n",
    "   \n",
    "# CI: 95%\n",
    "# p: 0.05\n",
    "  \n",
    "# rejection rule: p is low null will go, p is high null will fly\n",
    "\n",
    "# perform the test\n",
    "stats.pearsonr( loan_data.interest_rate , loan_data.amt_funded_by_investors )\n",
    "\n",
    "# business conclusion\n",
    "# there is a direct corelation of the pre usage with latest month usage\n",
    "# for the larger amount of loan interset rate is lower and vice- versa"
   ]
  },
  {
   "cell_type": "markdown",
   "id": "95dfa521",
   "metadata": {},
   "source": [
    "### b. Loan length is directly effecting intrest rate."
   ]
  },
  {
   "cell_type": "code",
   "execution_count": 16,
   "id": "31bf592b",
   "metadata": {},
   "outputs": [
    {
     "data": {
      "text/plain": [
       "SpearmanrResult(correlation=0.3897344194175745, pvalue=4.3727413630439584e-91)"
      ]
     },
     "execution_count": 16,
     "metadata": {},
     "output_type": "execute_result"
    }
   ],
   "source": [
    "# Ho: No corelation, independant\n",
    "# Ha: variables are related, dependant\n",
    "   \n",
    "# CI: 95%\n",
    "# p: 0.05\n",
    "  \n",
    "# rejection rule: p is low null will go, p is high null will fly\n",
    "\n",
    "# perform the test\n",
    "stats.spearmanr( loan_data.interest_rate , loan_data.loan_length_Month )\n",
    "\n",
    "# business conclusion\n",
    "# there is a direct corelation of the pre usage with latest month usage\n",
    "# for longer loan length, interset rate is low and vice- versa"
   ]
  },
  {
   "cell_type": "markdown",
   "id": "81203d28",
   "metadata": {},
   "source": [
    "### c. Inrest rate varies for different purpose of loans"
   ]
  },
  {
   "cell_type": "code",
   "execution_count": 17,
   "id": "dadfb7de",
   "metadata": {},
   "outputs": [
    {
     "data": {
      "text/plain": [
       "array(['debt_consolidation', 'credit_card', 'other', 'moving', 'car',\n",
       "       'vacation', 'home_improvement', 'house', 'major_purchase',\n",
       "       'educational', 'medical', 'wedding', 'small_business',\n",
       "       'renewable_energy'], dtype=object)"
      ]
     },
     "execution_count": 17,
     "metadata": {},
     "output_type": "execute_result"
    }
   ],
   "source": [
    "loan_data.loan_purpose.unique()"
   ]
  },
  {
   "cell_type": "code",
   "execution_count": 18,
   "id": "de930c3e",
   "metadata": {},
   "outputs": [],
   "source": [
    "# data prep\n",
    "\n",
    "# samples for each loan purposes\n",
    "s1 = loan_data.loc[ loan_data.loan_purpose == 'debt_consolidation', 'interest_rate' ]\n",
    "s2 = loan_data.loc[ loan_data.loan_purpose == 'credit_card', 'interest_rate' ]\n",
    "s3 = loan_data.loc[ loan_data.loan_purpose == 'other', 'interest_rate' ]\n",
    "s4 = loan_data.loc[ loan_data.loan_purpose == 'moving', 'interest_rate' ]\n",
    "s5 = loan_data.loc[ loan_data.loan_purpose == 'car', 'interest_rate' ]\n",
    "s6 = loan_data.loc[ loan_data.loan_purpose == 'vacation', 'interest_rate' ]\n",
    "s7 = loan_data.loc[ loan_data.loan_purpose == 'home_improvement', 'interest_rate' ]\n",
    "s8 = loan_data.loc[ loan_data.loan_purpose == 'house', 'interest_rate' ]\n",
    "s9 = loan_data.loc[ loan_data.loan_purpose == 'major_purchase', 'interest_rate' ]\n",
    "s10 = loan_data.loc[ loan_data.loan_purpose == 'educational', 'interest_rate' ]\n",
    "s11 = loan_data.loc[ loan_data.loan_purpose == 'medical', 'interest_rate' ]\n",
    "s12 = loan_data.loc[ loan_data.loan_purpose == 'wedding', 'interest_rate' ]\n",
    "s13 = loan_data.loc[ loan_data.loan_purpose == 'small_business', 'interest_rate' ]\n",
    "s14 = loan_data.loc[ loan_data.loan_purpose == 'renewable_energy', 'interest_rate' ]\n"
   ]
  },
  {
   "cell_type": "code",
   "execution_count": 19,
   "id": "38d15e33",
   "metadata": {},
   "outputs": [
    {
     "name": "stdout",
     "output_type": "stream",
     "text": [
      "F_onewayResult(statistic=7.485329679963486, pvalue=1.1463480725465721e-14)\n"
     ]
    }
   ],
   "source": [
    "# Ho: samples are from same population\n",
    "# Ha: samples are from different population\n",
    "   \n",
    "# CI: 95%\n",
    "# p: 0.05\n",
    "  \n",
    "# rejection rule: p is low null will go, p is high null will fly\n",
    "\n",
    "# perform the test\n",
    "print( stats.f_oneway( s1, s2, s3,s4,s5,s6,s7,s8,s9,s10,s11,s12,s13,s14 ) )\n",
    "\n",
    "# Business conclusion\n",
    "# Interest rate for different loan purpose is different."
   ]
  },
  {
   "cell_type": "markdown",
   "id": "d2c48258",
   "metadata": {},
   "source": [
    "### d. There is relationship between FICO scores and Home Ownership. It means that, People with owning home will have high FICO scores."
   ]
  },
  {
   "cell_type": "code",
   "execution_count": 20,
   "id": "ed23deea",
   "metadata": {},
   "outputs": [
    {
     "name": "stdout",
     "output_type": "stream",
     "text": [
      "p value = 8.424183189199129e-17\n"
     ]
    }
   ],
   "source": [
    "# data prep for chi square test\n",
    "obs = pd.crosstab( loan_data.home_ownership, loan_data.FICO_Range )\n",
    "\n",
    "# Ho: No relationship, independant\n",
    "# Ha: variables are related, dependant\n",
    "   \n",
    "# CI: 95%\n",
    "# p: 0.05\n",
    "  \n",
    "# rejection rule: p is low null will go, p is high null will fly\n",
    "\n",
    "print ('p value =', stats.chi2_contingency( obs )[1])\n",
    "\n",
    "# business conclusion\n",
    "# people who owns a house has high FICO score as compare to people who doesn't."
   ]
  },
  {
   "cell_type": "markdown",
   "id": "472e299f",
   "metadata": {},
   "source": [
    "## BUSINESS PROBLEM - 2"
   ]
  },
  {
   "cell_type": "code",
   "execution_count": 21,
   "id": "1caca488",
   "metadata": {},
   "outputs": [
    {
     "data": {
      "text/html": [
       "<div>\n",
       "<style scoped>\n",
       "    .dataframe tbody tr th:only-of-type {\n",
       "        vertical-align: middle;\n",
       "    }\n",
       "\n",
       "    .dataframe tbody tr th {\n",
       "        vertical-align: top;\n",
       "    }\n",
       "\n",
       "    .dataframe thead th {\n",
       "        text-align: right;\n",
       "    }\n",
       "</style>\n",
       "<table border=\"1\" class=\"dataframe\">\n",
       "  <thead>\n",
       "    <tr style=\"text-align: right;\">\n",
       "      <th></th>\n",
       "      <th>Order_Number</th>\n",
       "      <th>Barry_Price</th>\n",
       "      <th>Mary_Price</th>\n",
       "    </tr>\n",
       "  </thead>\n",
       "  <tbody>\n",
       "    <tr>\n",
       "      <th>0</th>\n",
       "      <td>1</td>\n",
       "      <td>126</td>\n",
       "      <td>114</td>\n",
       "    </tr>\n",
       "    <tr>\n",
       "      <th>1</th>\n",
       "      <td>2</td>\n",
       "      <td>110</td>\n",
       "      <td>118</td>\n",
       "    </tr>\n",
       "    <tr>\n",
       "      <th>2</th>\n",
       "      <td>3</td>\n",
       "      <td>138</td>\n",
       "      <td>114</td>\n",
       "    </tr>\n",
       "    <tr>\n",
       "      <th>3</th>\n",
       "      <td>4</td>\n",
       "      <td>142</td>\n",
       "      <td>111</td>\n",
       "    </tr>\n",
       "    <tr>\n",
       "      <th>4</th>\n",
       "      <td>5</td>\n",
       "      <td>146</td>\n",
       "      <td>129</td>\n",
       "    </tr>\n",
       "  </tbody>\n",
       "</table>\n",
       "</div>"
      ],
      "text/plain": [
       "   Order_Number  Barry_Price  Mary_Price\n",
       "0             1          126         114\n",
       "1             2          110         118\n",
       "2             3          138         114\n",
       "3             4          142         111\n",
       "4             5          146         129"
      ]
     },
     "execution_count": 21,
     "metadata": {},
     "output_type": "execute_result"
    }
   ],
   "source": [
    "price_quotes = pd.read_csv(data + '\\\\Price_Quotes.csv')\n",
    "price_quotes.head()"
   ]
  },
  {
   "cell_type": "code",
   "execution_count": 22,
   "id": "87f4de32",
   "metadata": {},
   "outputs": [
    {
     "data": {
      "text/plain": [
       "Order_Number    0\n",
       "Barry_Price     0\n",
       "Mary_Price      0\n",
       "dtype: int64"
      ]
     },
     "execution_count": 22,
     "metadata": {},
     "output_type": "execute_result"
    }
   ],
   "source": [
    "price_quotes.isnull().sum()"
   ]
  },
  {
   "cell_type": "markdown",
   "id": "3c1644f3",
   "metadata": {},
   "source": [
    "### Q. We would like to assess if there is any difference in the average price quotes provided by Mary and Barry."
   ]
  },
  {
   "cell_type": "code",
   "execution_count": 23,
   "id": "0988367b",
   "metadata": {},
   "outputs": [
    {
     "name": "stdout",
     "output_type": "stream",
     "text": [
      "mean of Barry price: 124.3\n",
      "mean of Mary price: 114.8\n"
     ]
    }
   ],
   "source": [
    "# print the avg/mean of the samples\n",
    "print( 'mean of Barry price:', round(price_quotes.Barry_Price.mean(), 1) )\n",
    "print( 'mean of Mary price:', round(price_quotes.Mary_Price.mean(), 1) )"
   ]
  },
  {
   "cell_type": "code",
   "execution_count": 24,
   "id": "8bc5c209",
   "metadata": {},
   "outputs": [
    {
     "name": "stdout",
     "output_type": "stream",
     "text": [
      "Ttest_relResult(statistic=2.521376510892349, pvalue=0.02840588045242053)\n"
     ]
    }
   ],
   "source": [
    "# Ho: u2 = u1\n",
    "# Ha: u2 <> u1\n",
    "\n",
    "# CI: 95%\n",
    "# p: 0.05\n",
    "  \n",
    "# rejection rule: p is low null will go, p is high null will fly\n",
    "\n",
    "# perform the test\n",
    "print( stats.ttest_rel( price_quotes.Barry_Price, price_quotes.Mary_Price ) )\n",
    "\n",
    "# business conclusion\n",
    "# Their is average price difference in Barry and Mary quotes."
   ]
  },
  {
   "cell_type": "markdown",
   "id": "da88439f",
   "metadata": {},
   "source": [
    "## BUSINESS PROBLEM - 3"
   ]
  },
  {
   "cell_type": "code",
   "execution_count": 25,
   "id": "cea0853e",
   "metadata": {},
   "outputs": [
    {
     "data": {
      "text/html": [
       "<div>\n",
       "<style scoped>\n",
       "    .dataframe tbody tr th:only-of-type {\n",
       "        vertical-align: middle;\n",
       "    }\n",
       "\n",
       "    .dataframe tbody tr th {\n",
       "        vertical-align: top;\n",
       "    }\n",
       "\n",
       "    .dataframe thead th {\n",
       "        text-align: right;\n",
       "    }\n",
       "</style>\n",
       "<table border=\"1\" class=\"dataframe\">\n",
       "  <thead>\n",
       "    <tr style=\"text-align: right;\">\n",
       "      <th></th>\n",
       "      <th>Month</th>\n",
       "      <th>Reengineer</th>\n",
       "      <th>Employee_Turnover</th>\n",
       "      <th>VAR4</th>\n",
       "      <th>VAR5</th>\n",
       "    </tr>\n",
       "  </thead>\n",
       "  <tbody>\n",
       "    <tr>\n",
       "      <th>0</th>\n",
       "      <td>1</td>\n",
       "      <td>Prior</td>\n",
       "      <td>0.0000</td>\n",
       "      <td>24.390244</td>\n",
       "      <td>42.682927</td>\n",
       "    </tr>\n",
       "    <tr>\n",
       "      <th>1</th>\n",
       "      <td>2</td>\n",
       "      <td>Prior</td>\n",
       "      <td>6.0606</td>\n",
       "      <td>19.354839</td>\n",
       "      <td>25.806452</td>\n",
       "    </tr>\n",
       "  </tbody>\n",
       "</table>\n",
       "</div>"
      ],
      "text/plain": [
       "   Month Reengineer  Employee_Turnover       VAR4       VAR5\n",
       "0      1      Prior             0.0000  24.390244  42.682927\n",
       "1      2      Prior             6.0606  19.354839  25.806452"
      ]
     },
     "execution_count": 25,
     "metadata": {},
     "output_type": "execute_result"
    }
   ],
   "source": [
    "treatment_faci = pd.read_csv(data + '\\\\Treatment_Facility.csv')\n",
    "treatment_faci.head(2)"
   ]
  },
  {
   "cell_type": "code",
   "execution_count": 26,
   "id": "63eff59c",
   "metadata": {},
   "outputs": [],
   "source": [
    "treatment_faci.rename( columns={'VAR4':'TRFF(%)','VAR5':'CI(%)'}, inplace=True)"
   ]
  },
  {
   "cell_type": "code",
   "execution_count": 27,
   "id": "8b7bf6a6",
   "metadata": {},
   "outputs": [
    {
     "data": {
      "text/plain": [
       "Month                0\n",
       "Reengineer           0\n",
       "Employee_Turnover    0\n",
       "TRFF(%)              0\n",
       "CI(%)                0\n",
       "dtype: int64"
      ]
     },
     "execution_count": 27,
     "metadata": {},
     "output_type": "execute_result"
    }
   ],
   "source": [
    "treatment_faci.isnull().sum()"
   ]
  },
  {
   "cell_type": "markdown",
   "id": "e6fb1fc0",
   "metadata": {},
   "source": [
    "### Q. Determine what effect, if any, the reengineering effort had on the incidence behavioral problems and staff turnover. i.e To determine if the reengineering effort changed the critical incidence rate. Is there evidence that the critical incidence rate improved?"
   ]
  },
  {
   "cell_type": "code",
   "execution_count": 28,
   "id": "683e19b8",
   "metadata": {},
   "outputs": [
    {
     "data": {
      "text/html": [
       "<div>\n",
       "<style scoped>\n",
       "    .dataframe tbody tr th:only-of-type {\n",
       "        vertical-align: middle;\n",
       "    }\n",
       "\n",
       "    .dataframe tbody tr th {\n",
       "        vertical-align: top;\n",
       "    }\n",
       "\n",
       "    .dataframe thead th {\n",
       "        text-align: right;\n",
       "    }\n",
       "</style>\n",
       "<table border=\"1\" class=\"dataframe\">\n",
       "  <thead>\n",
       "    <tr style=\"text-align: right;\">\n",
       "      <th></th>\n",
       "      <th>Month</th>\n",
       "      <th>Reengineer</th>\n",
       "      <th>Employee_Turnover</th>\n",
       "      <th>TRFF(%)</th>\n",
       "      <th>CI(%)</th>\n",
       "    </tr>\n",
       "  </thead>\n",
       "  <tbody>\n",
       "    <tr>\n",
       "      <th>0</th>\n",
       "      <td>1</td>\n",
       "      <td>Prior</td>\n",
       "      <td>0.0000</td>\n",
       "      <td>24.390244</td>\n",
       "      <td>42.682927</td>\n",
       "    </tr>\n",
       "    <tr>\n",
       "      <th>1</th>\n",
       "      <td>2</td>\n",
       "      <td>Prior</td>\n",
       "      <td>6.0606</td>\n",
       "      <td>19.354839</td>\n",
       "      <td>25.806452</td>\n",
       "    </tr>\n",
       "  </tbody>\n",
       "</table>\n",
       "</div>"
      ],
      "text/plain": [
       "   Month Reengineer  Employee_Turnover    TRFF(%)      CI(%)\n",
       "0      1      Prior             0.0000  24.390244  42.682927\n",
       "1      2      Prior             6.0606  19.354839  25.806452"
      ]
     },
     "execution_count": 28,
     "metadata": {},
     "output_type": "execute_result"
    }
   ],
   "source": [
    "treatment_faci.head(2)"
   ]
  },
  {
   "cell_type": "code",
   "execution_count": 29,
   "id": "b0c343b3",
   "metadata": {},
   "outputs": [
    {
     "name": "stdout",
     "output_type": "stream",
     "text": [
      "mean of s1: 53.9 | mean of s2: 23.3\n"
     ]
    }
   ],
   "source": [
    "#samples for each Reengineer \n",
    "s1 = treatment_faci.loc[ treatment_faci.Reengineer == 'Prior', 'CI(%)' ]\n",
    "s2 = treatment_faci.loc[ treatment_faci.Reengineer == 'Post', 'CI(%)' ]\n",
    "\n",
    "# print the avg/mean of three samples\n",
    "print( 'mean of s1:', round(s1.mean(), 1), \n",
    "          '| mean of s2:', round(s2.mean(), 1))"
   ]
  },
  {
   "cell_type": "code",
   "execution_count": 30,
   "id": "d09d4d78",
   "metadata": {},
   "outputs": [
    {
     "name": "stdout",
     "output_type": "stream",
     "text": [
      "Ttest_indResult(statistic=1.6279144253528646, pvalue=0.12091989189884149)\n"
     ]
    }
   ],
   "source": [
    "# Ho: u2 <= u1\n",
    "# Ha: u2 > u1\n",
    "\n",
    "# CI: 95%\n",
    "# p: 0.05\n",
    "  \n",
    "# rejection rule: p is low null will go, p is high null will fly\n",
    "\n",
    "# perform the test\n",
    "print( stats.ttest_ind( s1, s2 ) )\n",
    "\n",
    "# business conclusion\n",
    "# WIth the give data we can not say that their is any effect on the reengineering efforts."
   ]
  },
  {
   "cell_type": "markdown",
   "id": "5a200aac",
   "metadata": {},
   "source": [
    "## BUSINESS PROBLEM-4"
   ]
  },
  {
   "cell_type": "code",
   "execution_count": 31,
   "id": "39301131",
   "metadata": {},
   "outputs": [
    {
     "data": {
      "text/html": [
       "<div>\n",
       "<style scoped>\n",
       "    .dataframe tbody tr th:only-of-type {\n",
       "        vertical-align: middle;\n",
       "    }\n",
       "\n",
       "    .dataframe tbody tr th {\n",
       "        vertical-align: top;\n",
       "    }\n",
       "\n",
       "    .dataframe thead th {\n",
       "        text-align: right;\n",
       "    }\n",
       "</style>\n",
       "<table border=\"1\" class=\"dataframe\">\n",
       "  <thead>\n",
       "    <tr style=\"text-align: right;\">\n",
       "      <th></th>\n",
       "      <th>Days</th>\n",
       "      <th>Priority</th>\n",
       "    </tr>\n",
       "  </thead>\n",
       "  <tbody>\n",
       "    <tr>\n",
       "      <th>0</th>\n",
       "      <td>3.3</td>\n",
       "      <td>High</td>\n",
       "    </tr>\n",
       "    <tr>\n",
       "      <th>1</th>\n",
       "      <td>7.9</td>\n",
       "      <td>Medium</td>\n",
       "    </tr>\n",
       "    <tr>\n",
       "      <th>2</th>\n",
       "      <td>0.3</td>\n",
       "      <td>High</td>\n",
       "    </tr>\n",
       "    <tr>\n",
       "      <th>3</th>\n",
       "      <td>0.7</td>\n",
       "      <td>Medium</td>\n",
       "    </tr>\n",
       "    <tr>\n",
       "      <th>4</th>\n",
       "      <td>8.6</td>\n",
       "      <td>Medium</td>\n",
       "    </tr>\n",
       "  </tbody>\n",
       "</table>\n",
       "</div>"
      ],
      "text/plain": [
       "   Days Priority\n",
       "0   3.3     High\n",
       "1   7.9   Medium\n",
       "2   0.3     High\n",
       "3   0.7   Medium\n",
       "4   8.6   Medium"
      ]
     },
     "execution_count": 31,
     "metadata": {},
     "output_type": "execute_result"
    }
   ],
   "source": [
    "priority_assessment = pd.read_csv(data + '\\\\Priority_Assessment.csv')\n",
    "priority_assessment.head(5)"
   ]
  },
  {
   "cell_type": "code",
   "execution_count": 32,
   "id": "50f4fa32",
   "metadata": {},
   "outputs": [
    {
     "data": {
      "text/plain": [
       "Days        0\n",
       "Priority    0\n",
       "dtype: int64"
      ]
     },
     "execution_count": 32,
     "metadata": {},
     "output_type": "execute_result"
    }
   ],
   "source": [
    "priority_assessment.isnull().sum()"
   ]
  },
  {
   "cell_type": "markdown",
   "id": "a18a2a8d",
   "metadata": {},
   "source": [
    "### BUSINESS PROBLEM: We will focus on the prioritization system. If the system is working, then high priority jobs, on average, should be completed more quickly than medium priority jobs, and medium priority jobs should be completed more quickly than low priority jobs. Use the data provided to determine whether this is, in fact, occurring."
   ]
  },
  {
   "cell_type": "code",
   "execution_count": 33,
   "id": "1d949acd",
   "metadata": {},
   "outputs": [
    {
     "data": {
      "text/plain": [
       "SpearmanrResult(correlation=0.017913791551236326, pvalue=0.6505153120156153)"
      ]
     },
     "execution_count": 33,
     "metadata": {},
     "output_type": "execute_result"
    }
   ],
   "source": [
    "# Ho: No corelation, independant\n",
    "# Ha: variables are related, dependant\n",
    "   \n",
    "# CI: 95%\n",
    "# p: 0.05\n",
    "  \n",
    "# rejection rule: p is low null will go, p is high null will fly\n",
    "\n",
    "# perform the test\n",
    "stats.spearmanr( priority_assessment.Days , priority_assessment.Priority)\n",
    "\n",
    "# business conclusion:\n",
    "# With the given data we cannot say that the prioritization system is working."
   ]
  },
  {
   "cell_type": "markdown",
   "id": "68e51af2",
   "metadata": {},
   "source": [
    "## BUSINESS PROBLEM-5"
   ]
  },
  {
   "cell_type": "code",
   "execution_count": 34,
   "id": "bb13daab",
   "metadata": {},
   "outputs": [
    {
     "data": {
      "text/html": [
       "<div>\n",
       "<style scoped>\n",
       "    .dataframe tbody tr th:only-of-type {\n",
       "        vertical-align: middle;\n",
       "    }\n",
       "\n",
       "    .dataframe tbody tr th {\n",
       "        vertical-align: top;\n",
       "    }\n",
       "\n",
       "    .dataframe thead th {\n",
       "        text-align: right;\n",
       "    }\n",
       "</style>\n",
       "<table border=\"1\" class=\"dataframe\">\n",
       "  <thead>\n",
       "    <tr style=\"text-align: right;\">\n",
       "      <th></th>\n",
       "      <th>_rowstate_</th>\n",
       "      <th>Movie</th>\n",
       "      <th>Gender</th>\n",
       "      <th>Marital_Status</th>\n",
       "      <th>Sinage</th>\n",
       "      <th>Parking</th>\n",
       "      <th>Clean</th>\n",
       "      <th>Overall</th>\n",
       "      <th>Age</th>\n",
       "      <th>Income</th>\n",
       "      <th>Hear_About</th>\n",
       "    </tr>\n",
       "  </thead>\n",
       "  <tbody>\n",
       "    <tr>\n",
       "      <th>0</th>\n",
       "      <td>0</td>\n",
       "      <td>Ferris Buellers Day Off</td>\n",
       "      <td>Female</td>\n",
       "      <td>Married</td>\n",
       "      <td>2.0</td>\n",
       "      <td>2.0</td>\n",
       "      <td>2.0</td>\n",
       "      <td>2.0</td>\n",
       "      <td>3.0</td>\n",
       "      <td>1.0</td>\n",
       "      <td>5</td>\n",
       "    </tr>\n",
       "    <tr>\n",
       "      <th>1</th>\n",
       "      <td>0</td>\n",
       "      <td>Ferris Buellers Day Off</td>\n",
       "      <td>Female</td>\n",
       "      <td>Single</td>\n",
       "      <td>1.0</td>\n",
       "      <td>1.0</td>\n",
       "      <td>1.0</td>\n",
       "      <td>1.0</td>\n",
       "      <td>2.0</td>\n",
       "      <td>1.0</td>\n",
       "      <td>5</td>\n",
       "    </tr>\n",
       "  </tbody>\n",
       "</table>\n",
       "</div>"
      ],
      "text/plain": [
       "   _rowstate_                    Movie  Gender Marital_Status  Sinage  \\\n",
       "0           0  Ferris Buellers Day Off  Female        Married     2.0   \n",
       "1           0  Ferris Buellers Day Off  Female         Single     1.0   \n",
       "\n",
       "   Parking  Clean  Overall  Age  Income Hear_About  \n",
       "0      2.0    2.0      2.0  3.0     1.0          5  \n",
       "1      1.0    1.0      1.0  2.0     1.0          5  "
      ]
     },
     "execution_count": 34,
     "metadata": {},
     "output_type": "execute_result"
    }
   ],
   "source": [
    "films = pd.read_csv(data + '\\\\Films.csv')\n",
    "films.head(2)"
   ]
  },
  {
   "cell_type": "code",
   "execution_count": 35,
   "id": "49416651",
   "metadata": {},
   "outputs": [
    {
     "data": {
      "text/plain": [
       "_rowstate_         0\n",
       "Movie              0\n",
       "Gender             0\n",
       "Marital_Status     2\n",
       "Sinage             2\n",
       "Parking            2\n",
       "Clean              3\n",
       "Overall            2\n",
       "Age                2\n",
       "Income            16\n",
       "Hear_About         7\n",
       "dtype: int64"
      ]
     },
     "execution_count": 35,
     "metadata": {},
     "output_type": "execute_result"
    }
   ],
   "source": [
    "films.isnull().sum()"
   ]
  },
  {
   "cell_type": "code",
   "execution_count": 36,
   "id": "0c49a6c2",
   "metadata": {},
   "outputs": [],
   "source": [
    "for var in films.columns:\n",
    "    films[var].fillna(value = films[var].mode()[0], inplace=True)"
   ]
  },
  {
   "cell_type": "code",
   "execution_count": 37,
   "id": "cf3f55b8",
   "metadata": {},
   "outputs": [],
   "source": [
    "def gender (x):\n",
    "    if x.Gender == 'Male' :\n",
    "        return '1'\n",
    "    elif x.Gender == 'Female'  :\n",
    "        return '0'\n",
    "    elif x.Gender == '1'  :\n",
    "        return '1'\n",
    "    else :\n",
    "        return '0'"
   ]
  },
  {
   "cell_type": "code",
   "execution_count": 38,
   "id": "dc4c7381",
   "metadata": {},
   "outputs": [],
   "source": [
    "#converting males to 1 and females to 0 \n",
    "films.Gender = films.apply(gender, axis=1)"
   ]
  },
  {
   "cell_type": "code",
   "execution_count": 39,
   "id": "454091e9",
   "metadata": {},
   "outputs": [],
   "source": [
    "def married_status (x):\n",
    "    if x.Marital_Status == 'Married' :\n",
    "        return '1'\n",
    "    elif x.Marital_Status == 'Single'  :\n",
    "        return '0'\n",
    "    elif x.Marital_Status == '1'  :\n",
    "        return '1'\n",
    "    else :\n",
    "        return '0'"
   ]
  },
  {
   "cell_type": "code",
   "execution_count": 40,
   "id": "1769dbfb",
   "metadata": {},
   "outputs": [],
   "source": [
    "#converting married to 1 and singles to 0\n",
    "films.Marital_Status = films.apply(married_status, axis=1)"
   ]
  },
  {
   "cell_type": "markdown",
   "id": "8b586c94",
   "metadata": {},
   "source": [
    "### Q.1 What is the overall level of customer satisfaction?"
   ]
  },
  {
   "cell_type": "code",
   "execution_count": 41,
   "id": "c79aacb0",
   "metadata": {},
   "outputs": [
    {
     "name": "stdout",
     "output_type": "stream",
     "text": [
      "   Satisfaction level  count      Prob\n",
      "0                 1.0    151  0.457576\n",
      "1                 2.0    162  0.490909\n",
      "2                 3.0     12  0.036364\n",
      "3                 4.0      1  0.003030\n",
      "4                 5.0      4  0.012121\n",
      "  As Satisfaction level 1 is Excellent and 2 is Good. That means their is 94% chance customers are satisfied. \n"
     ]
    }
   ],
   "source": [
    "overall = films.groupby('Overall')[['Overall']].count()\n",
    "overall = overall.rename( columns={'Overall': 'count'}).reset_index()\n",
    "overall =overall.rename( columns={'Overall': 'Satisfaction level'})\n",
    "overall['Prob'] = overall['count'] / overall['count'].sum()\n",
    "print(overall)\n",
    "print('  As Satisfaction level 1 is Excellent and 2 is Good. That means their is 94% chance customers are satisfied. ')"
   ]
  },
  {
   "cell_type": "markdown",
   "id": "62afca54",
   "metadata": {},
   "source": [
    "### Q.2 What factors are linked to satisfaction?"
   ]
  },
  {
   "cell_type": "code",
   "execution_count": 42,
   "id": "a779c6a6",
   "metadata": {},
   "outputs": [
    {
     "data": {
      "text/plain": [
       "(125.61859671027881,\n",
       " 4.53298970003405e-19,\n",
       " 16,\n",
       " array([[5.17060606e+01, 5.54727273e+01, 4.10909091e+00, 3.42424242e-01,\n",
       "         1.36969697e+00],\n",
       "        [7.22969697e+01, 7.75636364e+01, 5.74545455e+00, 4.78787879e-01,\n",
       "         1.91515152e+00],\n",
       "        [2.19636364e+01, 2.35636364e+01, 1.74545455e+00, 1.45454545e-01,\n",
       "         5.81818182e-01],\n",
       "        [2.74545455e+00, 2.94545455e+00, 2.18181818e-01, 1.81818182e-02,\n",
       "         7.27272727e-02],\n",
       "        [2.28787879e+00, 2.45454545e+00, 1.81818182e-01, 1.51515152e-02,\n",
       "         6.06060606e-02]]))"
      ]
     },
     "execution_count": 42,
     "metadata": {},
     "output_type": "execute_result"
    }
   ],
   "source": [
    "# data prep for chi square test\n",
    "obs = pd.crosstab( films.Sinage,films.Overall )\n",
    "\n",
    "# Ho: No relationship, independant\n",
    "# Ha: variables are related, dependant\n",
    "   \n",
    "# CI: 95%\n",
    "# p: 0.05\n",
    "  \n",
    "# rejection rule: p is low null will go, p is high null will fly\n",
    "\n",
    "# perform the test\n",
    "\n",
    "stats.chi2_contingency( obs )\n",
    "\n",
    "# business conclusion\n",
    "# with increase in sinage rating overall staifaction is also increases"
   ]
  },
  {
   "cell_type": "code",
   "execution_count": 43,
   "id": "03131033",
   "metadata": {},
   "outputs": [
    {
     "data": {
      "text/plain": [
       "(230.61691663391676,\n",
       " 4.783162283608494e-40,\n",
       " 16,\n",
       " array([[6.17727273e+01, 6.62727273e+01, 4.90909091e+00, 4.09090909e-01,\n",
       "         1.63636364e+00],\n",
       "        [7.09242424e+01, 7.60909091e+01, 5.63636364e+00, 4.69696970e-01,\n",
       "         1.87878788e+00],\n",
       "        [1.32696970e+01, 1.42363636e+01, 1.05454545e+00, 8.78787879e-02,\n",
       "         3.51515152e-01],\n",
       "        [3.20303030e+00, 3.43636364e+00, 2.54545455e-01, 2.12121212e-02,\n",
       "         8.48484848e-02],\n",
       "        [1.83030303e+00, 1.96363636e+00, 1.45454545e-01, 1.21212121e-02,\n",
       "         4.84848485e-02]]))"
      ]
     },
     "execution_count": 43,
     "metadata": {},
     "output_type": "execute_result"
    }
   ],
   "source": [
    "# data prep for chi square test\n",
    "obs = pd.crosstab( films.Parking,films.Overall )\n",
    "\n",
    "# Ho: No relationship, independant\n",
    "# Ha: variables are related, dependant\n",
    "   \n",
    "# CI: 95%\n",
    "# p: 0.05\n",
    "  \n",
    "# rejection rule: p is low null will go, p is high null will fly\n",
    "\n",
    "# perform the test\n",
    "\n",
    "stats.chi2_contingency( obs )\n",
    "\n",
    "# business conclusion\n",
    "# with increase in parking rating overall staifaction is also increases"
   ]
  },
  {
   "cell_type": "code",
   "execution_count": 44,
   "id": "4a9c4096",
   "metadata": {},
   "outputs": [
    {
     "data": {
      "text/plain": [
       "(127.71945555999517,\n",
       " 1.7772535915434025e-19,\n",
       " 16,\n",
       " array([[6.58909091e+01, 7.06909091e+01, 5.23636364e+00, 4.36363636e-01,\n",
       "         1.74545455e+00],\n",
       "        [7.09242424e+01, 7.60909091e+01, 5.63636364e+00, 4.69696970e-01,\n",
       "         1.87878788e+00],\n",
       "        [1.09818182e+01, 1.17818182e+01, 8.72727273e-01, 7.27272727e-02,\n",
       "         2.90909091e-01],\n",
       "        [2.28787879e+00, 2.45454545e+00, 1.81818182e-01, 1.51515152e-02,\n",
       "         6.06060606e-02],\n",
       "        [9.15151515e-01, 9.81818182e-01, 7.27272727e-02, 6.06060606e-03,\n",
       "         2.42424242e-02]]))"
      ]
     },
     "execution_count": 44,
     "metadata": {},
     "output_type": "execute_result"
    }
   ],
   "source": [
    "# data prep for chi square test\n",
    "obs = pd.crosstab( films.Clean,films.Overall )\n",
    "\n",
    "# Ho: No relationship, independant\n",
    "# Ha: variables are related, dependant\n",
    "   \n",
    "# CI: 95%\n",
    "# p: 0.05\n",
    "  \n",
    "# rejection rule: p is low null will go, p is high null will fly\n",
    "\n",
    "# perform the test\n",
    "\n",
    "stats.chi2_contingency( obs )\n",
    "\n",
    "# business conclusion\n",
    "# with increase in clean rating overall staifaction is also increases"
   ]
  },
  {
   "cell_type": "markdown",
   "id": "ac844e32",
   "metadata": {},
   "source": [
    "### Q.3 What is the demographic profile of Film on the Rocks patrons?"
   ]
  },
  {
   "cell_type": "code",
   "execution_count": 45,
   "id": "43043ab1",
   "metadata": {},
   "outputs": [
    {
     "name": "stdout",
     "output_type": "stream",
     "text": [
      "  Gender  count      Prob\n",
      "0      0    213  0.645455\n",
      "1      1    117  0.354545\n",
      "  AS Gender 0 is Female and 1 is male. That means their is 64% probability audiance is female\n"
     ]
    }
   ],
   "source": [
    "# Demography on Gender\n",
    "gender = films.groupby('Gender')[['Gender']].count()\n",
    "gender = gender.rename( columns={'Gender': 'count'}).reset_index()\n",
    "gender['Prob'] = gender['count'] / gender['count'].sum()\n",
    "print(gender)\n",
    "print('  AS Gender 0 is Female and 1 is male. That means their is 64% probability audiance is female')"
   ]
  },
  {
   "cell_type": "code",
   "execution_count": 46,
   "id": "d76f7ebd",
   "metadata": {},
   "outputs": [
    {
     "name": "stdout",
     "output_type": "stream",
     "text": [
      "  Marital_Status  count     Prob\n",
      "0              0    230  0.69697\n",
      "1              1    100  0.30303\n",
      "  Their is 69% probability that the audiance is Married\n"
     ]
    }
   ],
   "source": [
    "#Demography on Martial Status\n",
    "Marital_Status = films.groupby('Marital_Status')[['Marital_Status']].count()\n",
    "Marital_Status = Marital_Status.rename( columns={'Marital_Status': 'count'}).reset_index()\n",
    "Marital_Status['Prob'] = Marital_Status['count'] / Marital_Status['count'].sum()\n",
    "print(Marital_Status)\n",
    "print('  Their is 69% probability that the audiance is Married')"
   ]
  },
  {
   "cell_type": "code",
   "execution_count": 47,
   "id": "7a909719",
   "metadata": {},
   "outputs": [
    {
     "name": "stdout",
     "output_type": "stream",
     "text": [
      "   Age  count      Prob\n",
      "0  1.0     26  0.078788\n",
      "1  2.0    177  0.536364\n",
      "2  3.0    117  0.354545\n",
      "3  4.0     10  0.030303\n",
      "  Their is 53% probability that the age of the audiance is between 13-30\n"
     ]
    }
   ],
   "source": [
    "#Demography on Martial Status\n",
    "Age = films.groupby('Age')[['Age']].count()\n",
    "Age = Age.rename( columns={'Age': 'count'}).reset_index()\n",
    "Age['Prob'] = Age['count'] / Age['count'].sum()\n",
    "print(Age)\n",
    "print('  Their is 53% probability that the age of the audiance is between 13-30')"
   ]
  },
  {
   "cell_type": "code",
   "execution_count": 48,
   "id": "f716863f",
   "metadata": {},
   "outputs": [
    {
     "name": "stdout",
     "output_type": "stream",
     "text": [
      "   Income  count      Prob\n",
      "0     1.0    158  0.478788\n",
      "1     2.0     82  0.248485\n",
      "2     3.0     90  0.272727\n",
      "  Their is 47% probability that the Income of the audiance is less than 50K\n"
     ]
    }
   ],
   "source": [
    "#Demography on Income\n",
    "Income = films.groupby('Income')[['Income']].count()\n",
    "Income = Income.rename( columns={'Income': 'count'}).reset_index()\n",
    "Income['Prob'] = Income['count'] / Income['count'].sum()\n",
    "print(Income)\n",
    "print('  Their is 47% probability that the Income of the audiance is less than 50K')"
   ]
  },
  {
   "cell_type": "markdown",
   "id": "3b8f1d2b",
   "metadata": {},
   "source": [
    "### Q.4 In what media outlet(s) should the film series be advertised?"
   ]
  },
  {
   "cell_type": "code",
   "execution_count": 49,
   "id": "5deeca05",
   "metadata": {},
   "outputs": [
    {
     "name": "stdout",
     "output_type": "stream",
     "text": [
      "   Hear_About  count      Prob\n",
      "9           5    233  0.706061\n",
      "7           4     41  0.124242\n",
      "0           1     22  0.066667\n",
      "4           3     14  0.042424\n",
      "2           2     12  0.036364\n",
      "3         2,5      2  0.006061\n",
      "5         3,4      2  0.006061\n",
      "1         1,5      1  0.003030\n",
      "6         3,5      1  0.003030\n",
      "8         4,5      1  0.003030\n",
      "10        5,4      1  0.003030\n",
      "  Their is 70% probability that the audiance heard about the film series solely through word of mouth.\n"
     ]
    }
   ],
   "source": [
    "#Demography on Income\n",
    "Hear_About = films.groupby('Hear_About')[['Hear_About']].count()\n",
    "Hear_About = Hear_About.rename( columns={'Hear_About': 'count'}).reset_index()\n",
    "Hear_About['Prob'] = Hear_About['count'] / Hear_About['count'].sum()\n",
    "print(Hear_About.sort_values(by='Prob', ascending = False))\n",
    "print('  Their is 70% probability that the audiance heard about the film series solely through word of mouth.')"
   ]
  }
 ],
 "metadata": {
  "kernelspec": {
   "display_name": "Python 3 (ipykernel)",
   "language": "python",
   "name": "python3"
  },
  "language_info": {
   "codemirror_mode": {
    "name": "ipython",
    "version": 3
   },
   "file_extension": ".py",
   "mimetype": "text/x-python",
   "name": "python",
   "nbconvert_exporter": "python",
   "pygments_lexer": "ipython3",
   "version": "3.9.12"
  }
 },
 "nbformat": 4,
 "nbformat_minor": 5
}
